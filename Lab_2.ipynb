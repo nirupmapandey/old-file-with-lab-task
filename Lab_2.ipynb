{
  "nbformat": 4,
  "nbformat_minor": 0,
  "metadata": {
    "colab": {
      "name": "Lab_2.ipynb",
      "provenance": [],
      "collapsed_sections": []
    },
    "kernelspec": {
      "name": "python3",
      "display_name": "Python 3"
    }
  },
  "cells": [
    {
      "cell_type": "markdown",
      "metadata": {
        "id": "Gkh59uI4CyUg",
        "colab_type": "text"
      },
      "source": [
        "Bootstraps "
      ]
    },
    {
      "cell_type": "code",
      "metadata": {
        "id": "Rtrw9Eu7zlbw",
        "colab_type": "code",
        "colab": {}
      },
      "source": [
        "import matplotlib\n",
        "import pandas as pd\n",
        "import seaborn as sns\n",
        "import numpy as np"
      ],
      "execution_count": 0,
      "outputs": []
    },
    {
      "cell_type": "markdown",
      "metadata": {
        "id": "7rpfa_pZVdlQ",
        "colab_type": "text"
      },
      "source": [
        "Customer Dataset"
      ]
    },
    {
      "cell_type": "code",
      "metadata": {
        "id": "qRx0Ke86z2ap",
        "colab_type": "code",
        "outputId": "d3b87ec5-c01c-45ae-ab49-ece9a7afb074",
        "colab": {
          "base_uri": "https://localhost:8080/",
          "height": 272
        }
      },
      "source": [
        "#Load CSV file\n",
        "df = pd.read_csv('https://raw.githubusercontent.com/albanda/CE888/master/lab2%20-%20bootstrap/customers.csv')\n",
        "print(df)"
      ],
      "execution_count": 0,
      "outputs": [
        {
          "output_type": "stream",
          "text": [
            "    Day   Millons of pounds in sales\n",
            "0     1                          2.0\n",
            "1     2                          8.0\n",
            "2     3                         20.0\n",
            "3     4                         13.0\n",
            "4     5                          5.0\n",
            "5     6                          9.0\n",
            "6     7                         10.0\n",
            "7     8                          8.0\n",
            "8     9                         22.0\n",
            "9    10                         10.0\n",
            "10   11                          2.0\n",
            "11   12                          4.0\n",
            "12   13                          7.0\n",
            "13   14                          9.0\n"
          ],
          "name": "stdout"
        }
      ]
    },
    {
      "cell_type": "code",
      "metadata": {
        "id": "3cSmJvYYDRsz",
        "colab_type": "code",
        "outputId": "8696e407-a843-40b9-fd0e-966a96215bec",
        "colab": {
          "base_uri": "https://localhost:8080/",
          "height": 34
        }
      },
      "source": [
        "# extracting target column\n",
        "data = df.values.T[1]\n",
        "print(data)"
      ],
      "execution_count": 0,
      "outputs": [
        {
          "output_type": "stream",
          "text": [
            "[ 2.  8. 20. 13.  5.  9. 10.  8. 22. 10.  2.  4.  7.  9.]\n"
          ],
          "name": "stdout"
        }
      ]
    },
    {
      "cell_type": "code",
      "metadata": {
        "id": "5_nzKtrU19MH",
        "colab_type": "code",
        "outputId": "3262943e-4e9b-4b37-e147-8ab5323bb7a9",
        "colab": {
          "base_uri": "https://localhost:8080/",
          "height": 34
        }
      },
      "source": [
        "### 2. Calculate and save the mean of the array (this is \"data_mean\" that is returned by the function)\n",
        "data_mean = np.mean(data)\n",
        "print(data_mean)"
      ],
      "execution_count": 0,
      "outputs": [
        {
          "output_type": "stream",
          "text": [
            "9.214285714285714\n"
          ],
          "name": "stdout"
        }
      ]
    },
    {
      "cell_type": "code",
      "metadata": {
        "id": "g_A8AiXF8C4X",
        "colab_type": "code",
        "outputId": "4812a4e9-f1b3-4091-a4f2-1d3f64490c88",
        "colab": {
          "base_uri": "https://localhost:8080/",
          "height": 51
        }
      },
      "source": [
        "x1 = np.random.choice(data, 9)\n",
        "print(x1)\n",
        "x1_mean = np.mean(x1)\n",
        "print(x1_mean)"
      ],
      "execution_count": 0,
      "outputs": [
        {
          "output_type": "stream",
          "text": [
            "[20.  2. 22.  8.  7. 22. 10. 10.  9.]\n",
            "12.222222222222221\n"
          ],
          "name": "stdout"
        }
      ]
    },
    {
      "cell_type": "code",
      "metadata": {
        "id": "CZV98_j-9yNW",
        "colab_type": "code",
        "outputId": "d0c4d5e0-2354-4ab2-fb57-eadf84a2588f",
        "colab": {
          "base_uri": "https://localhost:8080/",
          "height": 51
        }
      },
      "source": [
        "x2 = np.random.choice(data, 9)\n",
        "print(x2)\n",
        "x2_mean = np.mean(x2)\n",
        "print(x2_mean)"
      ],
      "execution_count": 0,
      "outputs": [
        {
          "output_type": "stream",
          "text": [
            "[22.  8.  2. 20.  8. 22.  9.  9. 13.]\n",
            "12.555555555555555\n"
          ],
          "name": "stdout"
        }
      ]
    },
    {
      "cell_type": "code",
      "metadata": {
        "id": "02A0X55J932N",
        "colab_type": "code",
        "outputId": "b6f68195-572d-4bc7-f926-13f66af5ecd9",
        "colab": {
          "base_uri": "https://localhost:8080/",
          "height": 51
        }
      },
      "source": [
        "x3 = np.random.choice(data, 9)\n",
        "print(x3)\n",
        "x3_mean = np.mean(x3)\n",
        "print(x3_mean)"
      ],
      "execution_count": 0,
      "outputs": [
        {
          "output_type": "stream",
          "text": [
            "[13.  5. 13. 13.  2. 10.  9. 10.  9.]\n",
            "9.333333333333334\n"
          ],
          "name": "stdout"
        }
      ]
    },
    {
      "cell_type": "code",
      "metadata": {
        "id": "toS2I3U998AF",
        "colab_type": "code",
        "outputId": "5eaa5434-2cd6-494a-b029-90e99bb40af7",
        "colab": {
          "base_uri": "https://localhost:8080/",
          "height": 51
        }
      },
      "source": [
        "x4 = np.random.choice(data, 9)\n",
        "print(x4)\n",
        "x4_mean = np.mean(x4)\n",
        "print(x4_mean)"
      ],
      "execution_count": 0,
      "outputs": [
        {
          "output_type": "stream",
          "text": [
            "[13.  2. 20.  2. 10. 20.  5.  9. 10.]\n",
            "10.11111111111111\n"
          ],
          "name": "stdout"
        }
      ]
    },
    {
      "cell_type": "code",
      "metadata": {
        "id": "uyOpKEuR9_1k",
        "colab_type": "code",
        "outputId": "289e1d88-6502-4fdf-9ce0-d18587b880b4",
        "colab": {
          "base_uri": "https://localhost:8080/",
          "height": 51
        }
      },
      "source": [
        "x5 = np.random.choice(data, 9)\n",
        "print(x5)\n",
        "x5_mean = np.mean(x5)\n",
        "print(x5_mean)"
      ],
      "execution_count": 0,
      "outputs": [
        {
          "output_type": "stream",
          "text": [
            "[ 2.  4.  8.  7. 22.  2. 13. 10. 13.]\n",
            "9.0\n"
          ],
          "name": "stdout"
        }
      ]
    },
    {
      "cell_type": "markdown",
      "metadata": {
        "id": "IHE_j_ZsGfFQ",
        "colab_type": "text"
      },
      "source": [
        "##Defining Bootstrap_mean function"
      ]
    },
    {
      "cell_type": "code",
      "metadata": {
        "id": "uYNA5QrkA4NC",
        "colab_type": "code",
        "colab": {}
      },
      "source": [
        "def boostrap_mean(sample, sampl_size, n_iteration):\n",
        "  data_array= []\n",
        "  for i in range (0, n_iteration):\n",
        "    a = np.random.choice(sample, sampl_size)\n",
        "    a_mean = np.mean(a)\n",
        "    #print(a)\n",
        "    #print(a_mean)\n",
        "    data_array = np.append(data_array, a_mean)\n",
        "  #print(data_array)\n",
        "  data_mean = np.mean(data_array)\n",
        "  CI= np.percentile(data_array, [2.5, 97.5])\n",
        "  #print(CI)\n",
        "  lower, upper = CI\n",
        "  #print(lower)\n",
        "  #print(upper)\n",
        "  return data_mean, lower, upper"
      ],
      "execution_count": 0,
      "outputs": []
    },
    {
      "cell_type": "code",
      "metadata": {
        "id": "HFqND3o9E24b",
        "colab_type": "code",
        "outputId": "cee2c183-f72f-42de-aef8-3ca3b509099c",
        "colab": {
          "base_uri": "https://localhost:8080/",
          "height": 34
        }
      },
      "source": [
        "boostrap_mean(data, 20, 10)"
      ],
      "execution_count": 0,
      "outputs": [
        {
          "output_type": "execute_result",
          "data": {
            "text/plain": [
              "(8.98, 7.035, 10.93125)"
            ]
          },
          "metadata": {
            "tags": []
          },
          "execution_count": 11
        }
      ]
    },
    {
      "cell_type": "code",
      "metadata": {
        "id": "MGMXI2UxSV5y",
        "colab_type": "code",
        "outputId": "5d9bfbe6-3a64-4942-bde2-c99112c6ca40",
        "colab": {
          "base_uri": "https://localhost:8080/",
          "height": 34
        }
      },
      "source": [
        "data.shape[0]"
      ],
      "execution_count": 0,
      "outputs": [
        {
          "output_type": "execute_result",
          "data": {
            "text/plain": [
              "14"
            ]
          },
          "metadata": {
            "tags": []
          },
          "execution_count": 12
        }
      ]
    },
    {
      "cell_type": "code",
      "metadata": {
        "id": "iWpQqYLaSkSE",
        "colab_type": "code",
        "colab": {}
      },
      "source": [
        "boot = boostrap_mean(data, data.shape[0], 100)"
      ],
      "execution_count": 0,
      "outputs": []
    },
    {
      "cell_type": "code",
      "metadata": {
        "id": "Z31adZ41SxJy",
        "colab_type": "code",
        "outputId": "d4ef1535-7a6a-4110-f2bc-6670986c945a",
        "colab": {
          "base_uri": "https://localhost:8080/",
          "height": 34
        }
      },
      "source": [
        "boot[0]"
      ],
      "execution_count": 0,
      "outputs": [
        {
          "output_type": "execute_result",
          "data": {
            "text/plain": [
              "9.122142857142856"
            ]
          },
          "metadata": {
            "tags": []
          },
          "execution_count": 14
        }
      ]
    },
    {
      "cell_type": "code",
      "metadata": {
        "id": "LzqBqOcSSzay",
        "colab_type": "code",
        "outputId": "6bd4f789-130f-4a52-a639-df34e0749a1d",
        "colab": {
          "base_uri": "https://localhost:8080/",
          "height": 34
        }
      },
      "source": [
        "boot[1]"
      ],
      "execution_count": 0,
      "outputs": [
        {
          "output_type": "execute_result",
          "data": {
            "text/plain": [
              "6.308928571428571"
            ]
          },
          "metadata": {
            "tags": []
          },
          "execution_count": 15
        }
      ]
    },
    {
      "cell_type": "code",
      "metadata": {
        "id": "itY4n0wqS9T7",
        "colab_type": "code",
        "outputId": "b52b520e-1e64-4ca8-b8c4-68bac6e03a17",
        "colab": {
          "base_uri": "https://localhost:8080/",
          "height": 34
        }
      },
      "source": [
        "boot[2]"
      ],
      "execution_count": 0,
      "outputs": [
        {
          "output_type": "execute_result",
          "data": {
            "text/plain": [
              "12.285714285714286"
            ]
          },
          "metadata": {
            "tags": []
          },
          "execution_count": 16
        }
      ]
    },
    {
      "cell_type": "code",
      "metadata": {
        "id": "vQSCd8E_OFeM",
        "colab_type": "code",
        "outputId": "3ed18d05-28d9-4a7f-8c2c-ed4cfb3316e9",
        "colab": {
          "base_uri": "https://localhost:8080/",
          "height": 350
        }
      },
      "source": [
        "boots = []\n",
        "for i in range(100, 100000, 1000):\n",
        "    boot = boostrap_mean(data, data.shape[0], i)\n",
        "    boots.append([i, boot[0], \"mean\"])\n",
        "    boots.append([i, boot[1], \"lower\"])\n",
        "    boots.append([i, boot[2], \"upper\"])"
      ],
      "execution_count": 0,
      "outputs": [
        {
          "output_type": "error",
          "ename": "KeyboardInterrupt",
          "evalue": "ignored",
          "traceback": [
            "\u001b[0;31m---------------------------------------------------------------------------\u001b[0m",
            "\u001b[0;31mKeyboardInterrupt\u001b[0m                         Traceback (most recent call last)",
            "\u001b[0;32m<ipython-input-17-57aab0665c95>\u001b[0m in \u001b[0;36m<module>\u001b[0;34m()\u001b[0m\n\u001b[1;32m      1\u001b[0m \u001b[0mboots\u001b[0m \u001b[0;34m=\u001b[0m \u001b[0;34m[\u001b[0m\u001b[0;34m]\u001b[0m\u001b[0;34m\u001b[0m\u001b[0;34m\u001b[0m\u001b[0m\n\u001b[1;32m      2\u001b[0m \u001b[0;32mfor\u001b[0m \u001b[0mi\u001b[0m \u001b[0;32min\u001b[0m \u001b[0mrange\u001b[0m\u001b[0;34m(\u001b[0m\u001b[0;36m100\u001b[0m\u001b[0;34m,\u001b[0m \u001b[0;36m100000\u001b[0m\u001b[0;34m,\u001b[0m \u001b[0;36m1000\u001b[0m\u001b[0;34m)\u001b[0m\u001b[0;34m:\u001b[0m\u001b[0;34m\u001b[0m\u001b[0;34m\u001b[0m\u001b[0m\n\u001b[0;32m----> 3\u001b[0;31m     \u001b[0mboot\u001b[0m \u001b[0;34m=\u001b[0m \u001b[0mboostrap_mean\u001b[0m\u001b[0;34m(\u001b[0m\u001b[0mdata\u001b[0m\u001b[0;34m,\u001b[0m \u001b[0mdata\u001b[0m\u001b[0;34m.\u001b[0m\u001b[0mshape\u001b[0m\u001b[0;34m[\u001b[0m\u001b[0;36m0\u001b[0m\u001b[0;34m]\u001b[0m\u001b[0;34m,\u001b[0m \u001b[0mi\u001b[0m\u001b[0;34m)\u001b[0m\u001b[0;34m\u001b[0m\u001b[0;34m\u001b[0m\u001b[0m\n\u001b[0m\u001b[1;32m      4\u001b[0m     \u001b[0mboots\u001b[0m\u001b[0;34m.\u001b[0m\u001b[0mappend\u001b[0m\u001b[0;34m(\u001b[0m\u001b[0;34m[\u001b[0m\u001b[0mi\u001b[0m\u001b[0;34m,\u001b[0m \u001b[0mboot\u001b[0m\u001b[0;34m[\u001b[0m\u001b[0;36m0\u001b[0m\u001b[0;34m]\u001b[0m\u001b[0;34m,\u001b[0m \u001b[0;34m\"mean\"\u001b[0m\u001b[0;34m]\u001b[0m\u001b[0;34m)\u001b[0m\u001b[0;34m\u001b[0m\u001b[0;34m\u001b[0m\u001b[0m\n\u001b[1;32m      5\u001b[0m     \u001b[0mboots\u001b[0m\u001b[0;34m.\u001b[0m\u001b[0mappend\u001b[0m\u001b[0;34m(\u001b[0m\u001b[0;34m[\u001b[0m\u001b[0mi\u001b[0m\u001b[0;34m,\u001b[0m \u001b[0mboot\u001b[0m\u001b[0;34m[\u001b[0m\u001b[0;36m1\u001b[0m\u001b[0;34m]\u001b[0m\u001b[0;34m,\u001b[0m \u001b[0;34m\"lower\"\u001b[0m\u001b[0;34m]\u001b[0m\u001b[0;34m)\u001b[0m\u001b[0;34m\u001b[0m\u001b[0;34m\u001b[0m\u001b[0m\n",
            "\u001b[0;32m<ipython-input-10-3520ca2ba4f9>\u001b[0m in \u001b[0;36mboostrap_mean\u001b[0;34m(sample, sampl_size, n_iteration)\u001b[0m\n\u001b[1;32m      2\u001b[0m   \u001b[0mdata_array\u001b[0m\u001b[0;34m=\u001b[0m \u001b[0;34m[\u001b[0m\u001b[0;34m]\u001b[0m\u001b[0;34m\u001b[0m\u001b[0;34m\u001b[0m\u001b[0m\n\u001b[1;32m      3\u001b[0m   \u001b[0;32mfor\u001b[0m \u001b[0mi\u001b[0m \u001b[0;32min\u001b[0m \u001b[0mrange\u001b[0m \u001b[0;34m(\u001b[0m\u001b[0;36m0\u001b[0m\u001b[0;34m,\u001b[0m \u001b[0mn_iteration\u001b[0m\u001b[0;34m)\u001b[0m\u001b[0;34m:\u001b[0m\u001b[0;34m\u001b[0m\u001b[0;34m\u001b[0m\u001b[0m\n\u001b[0;32m----> 4\u001b[0;31m     \u001b[0ma\u001b[0m \u001b[0;34m=\u001b[0m \u001b[0mnp\u001b[0m\u001b[0;34m.\u001b[0m\u001b[0mrandom\u001b[0m\u001b[0;34m.\u001b[0m\u001b[0mchoice\u001b[0m\u001b[0;34m(\u001b[0m\u001b[0msample\u001b[0m\u001b[0;34m,\u001b[0m \u001b[0msampl_size\u001b[0m\u001b[0;34m)\u001b[0m\u001b[0;34m\u001b[0m\u001b[0;34m\u001b[0m\u001b[0m\n\u001b[0m\u001b[1;32m      5\u001b[0m     \u001b[0ma_mean\u001b[0m \u001b[0;34m=\u001b[0m \u001b[0mnp\u001b[0m\u001b[0;34m.\u001b[0m\u001b[0mmean\u001b[0m\u001b[0;34m(\u001b[0m\u001b[0ma\u001b[0m\u001b[0;34m)\u001b[0m\u001b[0;34m\u001b[0m\u001b[0;34m\u001b[0m\u001b[0m\n\u001b[1;32m      6\u001b[0m     \u001b[0;31m#print(a)\u001b[0m\u001b[0;34m\u001b[0m\u001b[0;34m\u001b[0m\u001b[0;34m\u001b[0m\u001b[0m\n",
            "\u001b[0;31mKeyboardInterrupt\u001b[0m: "
          ]
        }
      ]
    },
    {
      "cell_type": "code",
      "metadata": {
        "id": "Imhpm376R2CI",
        "colab_type": "code",
        "colab": {}
      },
      "source": [
        "df_boot = pd.DataFrame(boots, columns=['Boostrap Iterations', 'Mean', \"Value\"])\n",
        "sns_plot = sns.lmplot(df_boot.columns[0], df_boot.columns[1], data=df_boot, fit_reg=False, hue=\"Value\")"
      ],
      "execution_count": 0,
      "outputs": []
    },
    {
      "cell_type": "code",
      "metadata": {
        "id": "KlfuHd3SR5Dm",
        "colab_type": "code",
        "colab": {}
      },
      "source": [
        "sns_plot.axes[0, 0].set_ylim(0,)\n",
        "sns_plot.axes[0, 0].set_xlim(0, 100000)"
      ],
      "execution_count": 0,
      "outputs": []
    },
    {
      "cell_type": "code",
      "metadata": {
        "id": "fl8SJ3eeR71m",
        "colab_type": "code",
        "colab": {}
      },
      "source": [
        "sns_plot.savefig(\"bootstrap_confidence.png\", bbox_inches='tight')\n",
        "sns_plot.savefig(\"bootstrap_confidence.pdf\", bbox_inches='tight')"
      ],
      "execution_count": 0,
      "outputs": []
    },
    {
      "cell_type": "markdown",
      "metadata": {
        "id": "Pwpgi7UrVW_7",
        "colab_type": "text"
      },
      "source": [
        "Vehicles dataset"
      ]
    },
    {
      "cell_type": "code",
      "metadata": {
        "id": "ZbRLxkrpVZ0Y",
        "colab_type": "code",
        "outputId": "52b714a3-7bea-4bad-b415-8cc5b3bb5f08",
        "colab": {
          "base_uri": "https://localhost:8080/",
          "height": 255
        }
      },
      "source": [
        "#Load CSV file\n",
        "df_1 = pd.read_csv('https://raw.githubusercontent.com/albanda/CE888/master/lab2%20-%20bootstrap/vehicles.csv')\n",
        "print(df_1)"
      ],
      "execution_count": 0,
      "outputs": [
        {
          "output_type": "stream",
          "text": [
            "     Current fleet  New Fleet\n",
            "0               18       24.0\n",
            "1               15       27.0\n",
            "2               18       27.0\n",
            "3               16       25.0\n",
            "4               17       31.0\n",
            "..             ...        ...\n",
            "244             27        NaN\n",
            "245             27        NaN\n",
            "246             32        NaN\n",
            "247             28        NaN\n",
            "248             31        NaN\n",
            "\n",
            "[249 rows x 2 columns]\n"
          ],
          "name": "stdout"
        }
      ]
    },
    {
      "cell_type": "code",
      "metadata": {
        "id": "jL_PzH_sXIZf",
        "colab_type": "code",
        "outputId": "199d412b-c161-4fc9-f92e-501a11d8eabb",
        "colab": {
          "base_uri": "https://localhost:8080/",
          "height": 34
        }
      },
      "source": [
        "f_old= df_1.values.T[0]\n",
        "mean_old = np.mean(f_old)\n",
        "mean_old"
      ],
      "execution_count": 0,
      "outputs": [
        {
          "output_type": "execute_result",
          "data": {
            "text/plain": [
              "20.14457831325301"
            ]
          },
          "metadata": {
            "tags": []
          },
          "execution_count": 19
        }
      ]
    },
    {
      "cell_type": "code",
      "metadata": {
        "id": "nRpuY0WHcuY7",
        "colab_type": "code",
        "outputId": "f8ff5c26-1d65-4fce-e89e-cf9141361525",
        "colab": {
          "base_uri": "https://localhost:8080/",
          "height": 357
        }
      },
      "source": [
        "f_new= df_1.values.T[1]\n",
        "f_new"
      ],
      "execution_count": 0,
      "outputs": [
        {
          "output_type": "execute_result",
          "data": {
            "text/plain": [
              "array([24., 27., 27., 25., 31., 35., 24., 19., 28., 23., 27., 20., 22.,\n",
              "       18., 20., 31., 32., 31., 32., 24., 26., 29., 24., 24., 33., 33.,\n",
              "       32., 28., 19., 32., 34., 26., 30., 22., 22., 33., 39., 36., 28.,\n",
              "       27., 21., 24., 30., 34., 32., 38., 37., 30., 31., 37., 32., 47.,\n",
              "       41., 45., 34., 33., 24., 32., 39., 35., 32., 37., 38., 34., 34.,\n",
              "       32., 33., 32., 25., 24., 37., 31., 36., 36., 34., 38., 32., 38.,\n",
              "       32., nan, nan, nan, nan, nan, nan, nan, nan, nan, nan, nan, nan,\n",
              "       nan, nan, nan, nan, nan, nan, nan, nan, nan, nan, nan, nan, nan,\n",
              "       nan, nan, nan, nan, nan, nan, nan, nan, nan, nan, nan, nan, nan,\n",
              "       nan, nan, nan, nan, nan, nan, nan, nan, nan, nan, nan, nan, nan,\n",
              "       nan, nan, nan, nan, nan, nan, nan, nan, nan, nan, nan, nan, nan,\n",
              "       nan, nan, nan, nan, nan, nan, nan, nan, nan, nan, nan, nan, nan,\n",
              "       nan, nan, nan, nan, nan, nan, nan, nan, nan, nan, nan, nan, nan,\n",
              "       nan, nan, nan, nan, nan, nan, nan, nan, nan, nan, nan, nan, nan,\n",
              "       nan, nan, nan, nan, nan, nan, nan, nan, nan, nan, nan, nan, nan,\n",
              "       nan, nan, nan, nan, nan, nan, nan, nan, nan, nan, nan, nan, nan,\n",
              "       nan, nan, nan, nan, nan, nan, nan, nan, nan, nan, nan, nan, nan,\n",
              "       nan, nan, nan, nan, nan, nan, nan, nan, nan, nan, nan, nan, nan,\n",
              "       nan, nan, nan, nan, nan, nan, nan, nan, nan, nan, nan, nan, nan,\n",
              "       nan, nan])"
            ]
          },
          "metadata": {
            "tags": []
          },
          "execution_count": 20
        }
      ]
    },
    {
      "cell_type": "code",
      "metadata": {
        "id": "XY-7c3XBdF-u",
        "colab_type": "code",
        "outputId": "58b574bc-9ef6-4746-b102-de2648a4a3d6",
        "colab": {
          "base_uri": "https://localhost:8080/",
          "height": 102
        }
      },
      "source": [
        "f_new= (f_new[~np.isnan(f_new)])\n",
        "print(f_new)"
      ],
      "execution_count": 0,
      "outputs": [
        {
          "output_type": "stream",
          "text": [
            "[24. 27. 27. 25. 31. 35. 24. 19. 28. 23. 27. 20. 22. 18. 20. 31. 32. 31.\n",
            " 32. 24. 26. 29. 24. 24. 33. 33. 32. 28. 19. 32. 34. 26. 30. 22. 22. 33.\n",
            " 39. 36. 28. 27. 21. 24. 30. 34. 32. 38. 37. 30. 31. 37. 32. 47. 41. 45.\n",
            " 34. 33. 24. 32. 39. 35. 32. 37. 38. 34. 34. 32. 33. 32. 25. 24. 37. 31.\n",
            " 36. 36. 34. 38. 32. 38. 32.]\n"
          ],
          "name": "stdout"
        }
      ]
    },
    {
      "cell_type": "code",
      "metadata": {
        "id": "irvPsgnHdC8T",
        "colab_type": "code",
        "outputId": "914d4f11-6f33-45d5-d271-90b6bf016be3",
        "colab": {
          "base_uri": "https://localhost:8080/",
          "height": 34
        }
      },
      "source": [
        "mean_new = np.mean(f_new)\n",
        "mean_new"
      ],
      "execution_count": 0,
      "outputs": [
        {
          "output_type": "execute_result",
          "data": {
            "text/plain": [
              "30.481012658227847"
            ]
          },
          "metadata": {
            "tags": []
          },
          "execution_count": 22
        }
      ]
    },
    {
      "cell_type": "code",
      "metadata": {
        "id": "ToUcAe99eZnO",
        "colab_type": "code",
        "outputId": "1ada6ebd-8997-4aea-de2a-13cafedc634a",
        "colab": {
          "base_uri": "https://localhost:8080/",
          "height": 34
        }
      },
      "source": [
        "len(f_old)\n",
        "len(f_new)"
      ],
      "execution_count": 0,
      "outputs": [
        {
          "output_type": "execute_result",
          "data": {
            "text/plain": [
              "79"
            ]
          },
          "metadata": {
            "tags": []
          },
          "execution_count": 30
        }
      ]
    },
    {
      "cell_type": "code",
      "metadata": {
        "id": "ruxyH-TAeLj0",
        "colab_type": "code",
        "outputId": "78bed0e0-b06d-44cd-d17c-dfc44268f8e8",
        "colab": {
          "base_uri": "https://localhost:8080/",
          "height": 34
        }
      },
      "source": [
        "boostrap_mean(f_old, len(f_old), 100)"
      ],
      "execution_count": 0,
      "outputs": [
        {
          "output_type": "execute_result",
          "data": {
            "text/plain": [
              "(20.12096385542169, 19.55572289156627, 20.75813253012048)"
            ]
          },
          "metadata": {
            "tags": []
          },
          "execution_count": 24
        }
      ]
    },
    {
      "cell_type": "code",
      "metadata": {
        "id": "YqLpccQTewlI",
        "colab_type": "code",
        "outputId": "4d81ab1d-8ac1-40d3-b94a-18d191caa2f3",
        "colab": {
          "base_uri": "https://localhost:8080/",
          "height": 34
        }
      },
      "source": [
        "boostrap_mean(f_new, len(f_new), 100)"
      ],
      "execution_count": 0,
      "outputs": [
        {
          "output_type": "execute_result",
          "data": {
            "text/plain": [
              "(30.518734177215187, 29.149367088607598, 31.846518987341767)"
            ]
          },
          "metadata": {
            "tags": []
          },
          "execution_count": 25
        }
      ]
    },
    {
      "cell_type": "markdown",
      "metadata": {
        "id": "JmrgwwLrkJkJ",
        "colab_type": "text"
      },
      "source": [
        "Permutation testing"
      ]
    },
    {
      "cell_type": "code",
      "metadata": {
        "id": "tguNm7jFkMjY",
        "colab_type": "code",
        "outputId": "f7f4f01c-57f6-43f5-f95d-69858ed1933c",
        "colab": {
          "base_uri": "https://localhost:8080/",
          "height": 459
        }
      },
      "source": [
        "# merge both old and new fleet data\n",
        "concat = np.concatenate((f_old, f_new))\n",
        "concat "
      ],
      "execution_count": 0,
      "outputs": [
        {
          "output_type": "execute_result",
          "data": {
            "text/plain": [
              "array([18., 15., 18., 16., 17., 15., 14., 14., 14., 15., 15., 14., 15.,\n",
              "       14., 22., 18., 21., 21., 10., 10., 11.,  9., 28., 25., 19., 16.,\n",
              "       17., 19., 18., 14., 14., 14., 14., 12., 13., 13., 18., 22., 19.,\n",
              "       18., 23., 26., 25., 20., 21., 13., 14., 15., 14., 17., 11., 13.,\n",
              "       12., 13., 15., 13., 13., 14., 22., 28., 13., 14., 13., 14., 15.,\n",
              "       12., 13., 13., 14., 13., 12., 13., 18., 16., 18., 18., 23., 11.,\n",
              "       12., 13., 12., 18., 21., 19., 21., 15., 16., 15., 11., 20., 21.,\n",
              "       19., 15., 26., 25., 16., 16., 18., 16., 13., 14., 14., 14., 28.,\n",
              "       19., 18., 15., 15., 16., 15., 16., 14., 17., 16., 15., 18., 21.,\n",
              "       20., 13., 23., 20., 23., 18., 19., 25., 26., 18., 16., 16., 15.,\n",
              "       22., 22., 24., 23., 29., 25., 20., 18., 19., 18., 27., 13., 17.,\n",
              "       13., 13., 13., 30., 26., 18., 17., 16., 15., 18., 21., 19., 19.,\n",
              "       16., 16., 16., 16., 25., 26., 31., 34., 36., 20., 19., 20., 19.,\n",
              "       21., 20., 25., 21., 19., 21., 21., 19., 18., 19., 18., 18., 18.,\n",
              "       30., 31., 23., 24., 22., 20., 22., 20., 21., 17., 18., 17., 18.,\n",
              "       17., 16., 19., 19., 36., 27., 23., 24., 34., 35., 28., 29., 27.,\n",
              "       34., 32., 28., 26., 24., 19., 28., 24., 27., 27., 26., 24., 30.,\n",
              "       39., 35., 34., 30., 22., 27., 20., 18., 28., 27., 34., 31., 29.,\n",
              "       27., 24., 23., 38., 36., 25., 38., 26., 22., 36., 27., 27., 32.,\n",
              "       28., 31., 24., 27., 27., 25., 31., 35., 24., 19., 28., 23., 27.,\n",
              "       20., 22., 18., 20., 31., 32., 31., 32., 24., 26., 29., 24., 24.,\n",
              "       33., 33., 32., 28., 19., 32., 34., 26., 30., 22., 22., 33., 39.,\n",
              "       36., 28., 27., 21., 24., 30., 34., 32., 38., 37., 30., 31., 37.,\n",
              "       32., 47., 41., 45., 34., 33., 24., 32., 39., 35., 32., 37., 38.,\n",
              "       34., 34., 32., 33., 32., 25., 24., 37., 31., 36., 36., 34., 38.,\n",
              "       32., 38., 32.])"
            ]
          },
          "metadata": {
            "tags": []
          },
          "execution_count": 26
        }
      ]
    },
    {
      "cell_type": "code",
      "metadata": {
        "id": "14d4DKo6khUZ",
        "colab_type": "code",
        "outputId": "5537cd28-a572-4bc8-ad21-e0b198071695",
        "colab": {
          "base_uri": "https://localhost:8080/",
          "height": 459
        }
      },
      "source": [
        "#permute it randomly to create a new array\n",
        "perm = np.random.permutation(concat)\n",
        "perm"
      ],
      "execution_count": 0,
      "outputs": [
        {
          "output_type": "execute_result",
          "data": {
            "text/plain": [
              "array([18., 13., 14., 16., 16., 32., 13., 36., 25., 28., 32., 30., 22.,\n",
              "       11., 16., 18., 26., 19., 22., 31., 34., 32., 37., 27., 18., 16.,\n",
              "       36., 33., 33., 28., 18., 20., 22., 19., 15., 23., 36., 17., 17.,\n",
              "       17., 21., 23., 15., 33., 24., 16., 24., 16., 16., 21., 19., 12.,\n",
              "       17., 23., 30., 20., 36., 14., 15., 23., 24., 13., 32., 38., 36.,\n",
              "       32., 37., 20., 25., 29., 10., 21., 15., 20., 34., 18., 14., 14.,\n",
              "       19., 33., 15., 34., 13., 13., 25., 16., 15., 18., 31., 26., 30.,\n",
              "       18., 26., 28., 27., 30., 17., 34., 24., 21., 15., 13., 28., 25.,\n",
              "       18., 22., 12., 11., 14., 16., 27., 25., 37., 10., 14., 18., 21.,\n",
              "       38., 19., 34., 12., 34., 31., 15., 20., 14., 19., 31., 34., 15.,\n",
              "       37., 22., 27., 38., 16., 15., 15., 25., 26., 14., 26., 18., 14.,\n",
              "       21., 13., 23., 35., 18., 19., 16., 20., 39., 18., 12., 18., 19.,\n",
              "       28., 21., 14., 13., 19., 22., 19., 24., 18., 27., 13., 27., 24.,\n",
              "       26., 15., 26., 27., 30., 18., 27., 35., 24., 18., 30., 13., 21.,\n",
              "       14., 16., 15., 16., 24., 25., 18., 32., 11., 22., 22., 21., 34.,\n",
              "       27., 47., 25., 15., 20., 28., 36., 35., 17., 20., 19., 24., 18.,\n",
              "       13., 24., 13., 28., 31., 21., 13., 15., 26., 24., 23., 21., 20.,\n",
              "       28.,  9., 19., 21., 32., 38., 15., 20., 32., 13., 27., 16., 17.,\n",
              "       17., 24., 23., 27., 19., 26., 16., 23., 19., 35., 32., 21., 34.,\n",
              "       31., 18., 32., 18., 31., 16., 20., 28., 16., 14., 27., 34., 13.,\n",
              "       38., 26., 12., 19., 30., 18., 31., 14., 29., 13., 13., 22., 18.,\n",
              "       14., 32., 28., 32., 18., 39., 25., 14., 23., 14., 32., 19., 13.,\n",
              "       24., 18., 19., 18., 45., 21., 32., 28., 38., 25., 15., 29., 33.,\n",
              "       20., 22., 22., 14., 17., 36., 13., 31., 19., 22., 13., 39., 19.,\n",
              "       19., 11., 41., 18., 12., 18., 24., 14., 27., 14., 16., 34., 29.,\n",
              "       27., 20., 24.])"
            ]
          },
          "metadata": {
            "tags": []
          },
          "execution_count": 36
        }
      ]
    },
    {
      "cell_type": "code",
      "metadata": {
        "id": "jEbfRNZTkvc6",
        "colab_type": "code",
        "outputId": "bca7a80f-5dab-4955-b2a5-d2ee427a7aa3",
        "colab": {
          "base_uri": "https://localhost:8080/",
          "height": 357
        }
      },
      "source": [
        "# split the whole data into two array\n",
        "p_old = perm[:int(len(f_old))]\n",
        "p_old"
      ],
      "execution_count": 0,
      "outputs": [
        {
          "output_type": "execute_result",
          "data": {
            "text/plain": [
              "array([18., 13., 14., 16., 16., 32., 13., 36., 25., 28., 32., 30., 22.,\n",
              "       11., 16., 18., 26., 19., 22., 31., 34., 32., 37., 27., 18., 16.,\n",
              "       36., 33., 33., 28., 18., 20., 22., 19., 15., 23., 36., 17., 17.,\n",
              "       17., 21., 23., 15., 33., 24., 16., 24., 16., 16., 21., 19., 12.,\n",
              "       17., 23., 30., 20., 36., 14., 15., 23., 24., 13., 32., 38., 36.,\n",
              "       32., 37., 20., 25., 29., 10., 21., 15., 20., 34., 18., 14., 14.,\n",
              "       19., 33., 15., 34., 13., 13., 25., 16., 15., 18., 31., 26., 30.,\n",
              "       18., 26., 28., 27., 30., 17., 34., 24., 21., 15., 13., 28., 25.,\n",
              "       18., 22., 12., 11., 14., 16., 27., 25., 37., 10., 14., 18., 21.,\n",
              "       38., 19., 34., 12., 34., 31., 15., 20., 14., 19., 31., 34., 15.,\n",
              "       37., 22., 27., 38., 16., 15., 15., 25., 26., 14., 26., 18., 14.,\n",
              "       21., 13., 23., 35., 18., 19., 16., 20., 39., 18., 12., 18., 19.,\n",
              "       28., 21., 14., 13., 19., 22., 19., 24., 18., 27., 13., 27., 24.,\n",
              "       26., 15., 26., 27., 30., 18., 27., 35., 24., 18., 30., 13., 21.,\n",
              "       14., 16., 15., 16., 24., 25., 18., 32., 11., 22., 22., 21., 34.,\n",
              "       27., 47., 25., 15., 20., 28., 36., 35., 17., 20., 19., 24., 18.,\n",
              "       13., 24., 13., 28., 31., 21., 13., 15., 26., 24., 23., 21., 20.,\n",
              "       28.,  9., 19., 21., 32., 38., 15., 20., 32., 13., 27., 16., 17.,\n",
              "       17., 24., 23., 27., 19., 26., 16., 23., 19., 35., 32., 21., 34.,\n",
              "       31., 18.])"
            ]
          },
          "metadata": {
            "tags": []
          },
          "execution_count": 39
        }
      ]
    },
    {
      "cell_type": "code",
      "metadata": {
        "id": "ox0iy-wqk889",
        "colab_type": "code",
        "outputId": "1c9b82d7-74c9-4a08-d0a2-7e713ec86356",
        "colab": {
          "base_uri": "https://localhost:8080/",
          "height": 136
        }
      },
      "source": [
        "p_new = perm [int(len(f_old)):]\n",
        "p_new"
      ],
      "execution_count": 0,
      "outputs": [
        {
          "output_type": "execute_result",
          "data": {
            "text/plain": [
              "array([32., 18., 31., 16., 20., 28., 16., 14., 27., 34., 13., 38., 26.,\n",
              "       12., 19., 30., 18., 31., 14., 29., 13., 13., 22., 18., 14., 32.,\n",
              "       28., 32., 18., 39., 25., 14., 23., 14., 32., 19., 13., 24., 18.,\n",
              "       19., 18., 45., 21., 32., 28., 38., 25., 15., 29., 33., 20., 22.,\n",
              "       22., 14., 17., 36., 13., 31., 19., 22., 13., 39., 19., 19., 11.,\n",
              "       41., 18., 12., 18., 24., 14., 27., 14., 16., 34., 29., 27., 20.,\n",
              "       24.])"
            ]
          },
          "metadata": {
            "tags": []
          },
          "execution_count": 42
        }
      ]
    },
    {
      "cell_type": "code",
      "metadata": {
        "id": "l7HtxxPflCrc",
        "colab_type": "code",
        "outputId": "1b2f0884-51d5-4b4d-faad-0505ab05a685",
        "colab": {
          "base_uri": "https://localhost:8080/",
          "height": 34
        }
      },
      "source": [
        "mean_p_old = np.mean(p_old)\n",
        "mean_p_old"
      ],
      "execution_count": 0,
      "outputs": [
        {
          "output_type": "execute_result",
          "data": {
            "text/plain": [
              "22.526104417670684"
            ]
          },
          "metadata": {
            "tags": []
          },
          "execution_count": 43
        }
      ]
    },
    {
      "cell_type": "code",
      "metadata": {
        "id": "iHTpe4URlPJW",
        "colab_type": "code",
        "outputId": "7034b984-420e-4ec5-be80-eb58c56e11b6",
        "colab": {
          "base_uri": "https://localhost:8080/",
          "height": 34
        }
      },
      "source": [
        "mean_p_new = np.mean(p_new)\n",
        "mean_p_new"
      ],
      "execution_count": 0,
      "outputs": [
        {
          "output_type": "execute_result",
          "data": {
            "text/plain": [
              "22.974683544303797"
            ]
          },
          "metadata": {
            "tags": []
          },
          "execution_count": 44
        }
      ]
    },
    {
      "cell_type": "code",
      "metadata": {
        "id": "0PwphmdHlZDw",
        "colab_type": "code",
        "outputId": "c7a55591-c155-44c1-f42a-9a3507f0c50a",
        "colab": {
          "base_uri": "https://localhost:8080/",
          "height": 34
        }
      },
      "source": [
        "t_perm = mean_p_new - mean_p_old\n",
        "t_perm"
      ],
      "execution_count": 0,
      "outputs": [
        {
          "output_type": "execute_result",
          "data": {
            "text/plain": [
              "0.4485791266331134"
            ]
          },
          "metadata": {
            "tags": []
          },
          "execution_count": 45
        }
      ]
    },
    {
      "cell_type": "code",
      "metadata": {
        "id": "T2ro1I2gloWK",
        "colab_type": "code",
        "outputId": "cf598377-44cc-4955-edd2-f9ca89e8bad3",
        "colab": {
          "base_uri": "https://localhost:8080/",
          "height": 34
        }
      },
      "source": [
        "t_obs = mean_new - mean_old\n",
        "t_obs"
      ],
      "execution_count": 0,
      "outputs": [
        {
          "output_type": "execute_result",
          "data": {
            "text/plain": [
              "10.336434344974837"
            ]
          },
          "metadata": {
            "tags": []
          },
          "execution_count": 46
        }
      ]
    },
    {
      "cell_type": "code",
      "metadata": {
        "id": "FzX_q1ymr1UW",
        "colab_type": "code",
        "colab": {}
      },
      "source": [
        "#Since, the null-hypothesis assume that t_perm = t_obs, which is not the case here, we will reject the null hypothesis\n",
        "# Lets check hypothesis 1\n",
        "#check for p-value to reject the hypothesis"
      ],
      "execution_count": 0,
      "outputs": []
    }
  ]
}
{
  "nbformat": 4,
  "nbformat_minor": 0,
  "metadata": {
    "colab": {
      "name": "Lab_3.ipynb",
      "provenance": [],
      "collapsed_sections": []
    },
    "kernelspec": {
      "name": "python3",
      "display_name": "Python 3"
    }
  },
  "cells": [
    {
      "cell_type": "markdown",
      "metadata": {
        "id": "e8HNU-BZJcNZ",
        "colab_type": "text"
      },
      "source": [
        " Task 1"
      ]
    },
    {
      "cell_type": "code",
      "metadata": {
        "id": "p7GSpZ_16Jye",
        "colab_type": "code",
        "colab": {}
      },
      "source": [
        "import numpy as np\n",
        "import pandas as pd\n",
        "import matplotlib.pyplot as plt \n",
        "from sklearn import cluster, datasets, metrics\n",
        "import seaborn as sns\n",
        "import warnings\n",
        "warnings.filterwarnings('ignore')"
      ],
      "execution_count": 0,
      "outputs": []
    },
    {
      "cell_type": "code",
      "metadata": {
        "id": "J1T8kFFRKmXF",
        "colab_type": "code",
        "outputId": "8c9f0999-b856-4917-816a-9254f67bfbbc",
        "colab": {
          "base_uri": "https://localhost:8080/",
          "height": 238
        }
      },
      "source": [
        "df_wine = pd.read_csv('https://archive.ics.uci.edu/ml/'\n",
        "                      'machine-learning-databases/wine/wine.data', header=None)\n",
        "\n",
        "\n",
        "df_wine.columns = ['Class_label', 'Alcohol', 'Malic_acid', 'Ash',\n",
        "                   'Alcalinity_of_ash', 'Magnesium', 'Total phenols',\n",
        "                   'Flavanoids', 'Nonflavanoid phenols', 'Proanthocyanins',\n",
        "                   'Color intensity', 'Hue',\n",
        "                   'OD280/OD315 of diluted wines', 'Proline']\n",
        "\n",
        "df_wine.head()"
      ],
      "execution_count": 2,
      "outputs": [
        {
          "output_type": "execute_result",
          "data": {
            "text/html": [
              "<div>\n",
              "<style scoped>\n",
              "    .dataframe tbody tr th:only-of-type {\n",
              "        vertical-align: middle;\n",
              "    }\n",
              "\n",
              "    .dataframe tbody tr th {\n",
              "        vertical-align: top;\n",
              "    }\n",
              "\n",
              "    .dataframe thead th {\n",
              "        text-align: right;\n",
              "    }\n",
              "</style>\n",
              "<table border=\"1\" class=\"dataframe\">\n",
              "  <thead>\n",
              "    <tr style=\"text-align: right;\">\n",
              "      <th></th>\n",
              "      <th>Class_label</th>\n",
              "      <th>Alcohol</th>\n",
              "      <th>Malic_acid</th>\n",
              "      <th>Ash</th>\n",
              "      <th>Alcalinity_of_ash</th>\n",
              "      <th>Magnesium</th>\n",
              "      <th>Total phenols</th>\n",
              "      <th>Flavanoids</th>\n",
              "      <th>Nonflavanoid phenols</th>\n",
              "      <th>Proanthocyanins</th>\n",
              "      <th>Color intensity</th>\n",
              "      <th>Hue</th>\n",
              "      <th>OD280/OD315 of diluted wines</th>\n",
              "      <th>Proline</th>\n",
              "    </tr>\n",
              "  </thead>\n",
              "  <tbody>\n",
              "    <tr>\n",
              "      <th>0</th>\n",
              "      <td>1</td>\n",
              "      <td>14.23</td>\n",
              "      <td>1.71</td>\n",
              "      <td>2.43</td>\n",
              "      <td>15.6</td>\n",
              "      <td>127</td>\n",
              "      <td>2.80</td>\n",
              "      <td>3.06</td>\n",
              "      <td>0.28</td>\n",
              "      <td>2.29</td>\n",
              "      <td>5.64</td>\n",
              "      <td>1.04</td>\n",
              "      <td>3.92</td>\n",
              "      <td>1065</td>\n",
              "    </tr>\n",
              "    <tr>\n",
              "      <th>1</th>\n",
              "      <td>1</td>\n",
              "      <td>13.20</td>\n",
              "      <td>1.78</td>\n",
              "      <td>2.14</td>\n",
              "      <td>11.2</td>\n",
              "      <td>100</td>\n",
              "      <td>2.65</td>\n",
              "      <td>2.76</td>\n",
              "      <td>0.26</td>\n",
              "      <td>1.28</td>\n",
              "      <td>4.38</td>\n",
              "      <td>1.05</td>\n",
              "      <td>3.40</td>\n",
              "      <td>1050</td>\n",
              "    </tr>\n",
              "    <tr>\n",
              "      <th>2</th>\n",
              "      <td>1</td>\n",
              "      <td>13.16</td>\n",
              "      <td>2.36</td>\n",
              "      <td>2.67</td>\n",
              "      <td>18.6</td>\n",
              "      <td>101</td>\n",
              "      <td>2.80</td>\n",
              "      <td>3.24</td>\n",
              "      <td>0.30</td>\n",
              "      <td>2.81</td>\n",
              "      <td>5.68</td>\n",
              "      <td>1.03</td>\n",
              "      <td>3.17</td>\n",
              "      <td>1185</td>\n",
              "    </tr>\n",
              "    <tr>\n",
              "      <th>3</th>\n",
              "      <td>1</td>\n",
              "      <td>14.37</td>\n",
              "      <td>1.95</td>\n",
              "      <td>2.50</td>\n",
              "      <td>16.8</td>\n",
              "      <td>113</td>\n",
              "      <td>3.85</td>\n",
              "      <td>3.49</td>\n",
              "      <td>0.24</td>\n",
              "      <td>2.18</td>\n",
              "      <td>7.80</td>\n",
              "      <td>0.86</td>\n",
              "      <td>3.45</td>\n",
              "      <td>1480</td>\n",
              "    </tr>\n",
              "    <tr>\n",
              "      <th>4</th>\n",
              "      <td>1</td>\n",
              "      <td>13.24</td>\n",
              "      <td>2.59</td>\n",
              "      <td>2.87</td>\n",
              "      <td>21.0</td>\n",
              "      <td>118</td>\n",
              "      <td>2.80</td>\n",
              "      <td>2.69</td>\n",
              "      <td>0.39</td>\n",
              "      <td>1.82</td>\n",
              "      <td>4.32</td>\n",
              "      <td>1.04</td>\n",
              "      <td>2.93</td>\n",
              "      <td>735</td>\n",
              "    </tr>\n",
              "  </tbody>\n",
              "</table>\n",
              "</div>"
            ],
            "text/plain": [
              "   Class_label  Alcohol  ...  OD280/OD315 of diluted wines  Proline\n",
              "0            1    14.23  ...                          3.92     1065\n",
              "1            1    13.20  ...                          3.40     1050\n",
              "2            1    13.16  ...                          3.17     1185\n",
              "3            1    14.37  ...                          3.45     1480\n",
              "4            1    13.24  ...                          2.93      735\n",
              "\n",
              "[5 rows x 14 columns]"
            ]
          },
          "metadata": {
            "tags": []
          },
          "execution_count": 2
        }
      ]
    },
    {
      "cell_type": "code",
      "metadata": {
        "id": "JTfTDasyMTyn",
        "colab_type": "code",
        "outputId": "0761da59-7ed4-4097-ccaa-ba444f271f2d",
        "colab": {
          "base_uri": "https://localhost:8080/",
          "height": 34
        }
      },
      "source": [
        "print (df_wine.isnull().sum().sum())"
      ],
      "execution_count": 3,
      "outputs": [
        {
          "output_type": "stream",
          "text": [
            "0\n"
          ],
          "name": "stdout"
        }
      ]
    },
    {
      "cell_type": "code",
      "metadata": {
        "id": "rj-j-d21vnp_",
        "colab_type": "code",
        "outputId": "e4a225b6-293c-47d8-96b6-587890f77766",
        "colab": {
          "base_uri": "https://localhost:8080/",
          "height": 85
        }
      },
      "source": [
        "#counts of each wine class\n",
        "print(df_wine['Class_label'].value_counts())"
      ],
      "execution_count": 4,
      "outputs": [
        {
          "output_type": "stream",
          "text": [
            "2    71\n",
            "1    59\n",
            "3    48\n",
            "Name: Class_label, dtype: int64\n"
          ],
          "name": "stdout"
        }
      ]
    },
    {
      "cell_type": "markdown",
      "metadata": {
        "id": "eAeU9b6Z2LQb",
        "colab_type": "text"
      },
      "source": [
        ""
      ]
    },
    {
      "cell_type": "markdown",
      "metadata": {
        "id": "_sUmTmQh9Rz1",
        "colab_type": "text"
      },
      "source": [
        "## Task 2"
      ]
    },
    {
      "cell_type": "code",
      "metadata": {
        "id": "hu-5eT4DxRxq",
        "colab_type": "code",
        "outputId": "de4b06ba-1989-4a7e-ff45-f26419285c6e",
        "colab": {
          "base_uri": "https://localhost:8080/",
          "height": 119
        }
      },
      "source": [
        "# Fetch data into x and y variables\n",
        "x=df_wine.ix[:,1:14] # Covariates or input\n",
        "y=df_wine.ix[:,:1] # Labels or classes or output\n",
        "print(x.columns)\n",
        "print(y.columns)"
      ],
      "execution_count": 5,
      "outputs": [
        {
          "output_type": "stream",
          "text": [
            "Index(['Alcohol', 'Malic_acid', 'Ash', 'Alcalinity_of_ash', 'Magnesium',\n",
            "       'Total phenols', 'Flavanoids', 'Nonflavanoid phenols',\n",
            "       'Proanthocyanins', 'Color intensity', 'Hue',\n",
            "       'OD280/OD315 of diluted wines', 'Proline'],\n",
            "      dtype='object')\n",
            "Index(['Class_label'], dtype='object')\n"
          ],
          "name": "stdout"
        }
      ]
    },
    {
      "cell_type": "code",
      "metadata": {
        "id": "C7Kf-dwexT4Z",
        "colab_type": "code",
        "colab": {}
      },
      "source": [
        "import numpy as np\n",
        "import pandas as pd\n",
        "from matplotlib import pyplot as plt\n",
        "from sklearn.datasets.samples_generator import make_blobs\n",
        "from sklearn.cluster import KMeans"
      ],
      "execution_count": 0,
      "outputs": []
    },
    {
      "cell_type": "code",
      "metadata": {
        "id": "soQMrJBX0rxd",
        "colab_type": "code",
        "outputId": "037abf3f-b4ff-4f1e-9f28-a6ec6b873fe9",
        "colab": {
          "base_uri": "https://localhost:8080/",
          "height": 221
        }
      },
      "source": [
        "df_wine.iloc[:,1]"
      ],
      "execution_count": 7,
      "outputs": [
        {
          "output_type": "execute_result",
          "data": {
            "text/plain": [
              "0      14.23\n",
              "1      13.20\n",
              "2      13.16\n",
              "3      14.37\n",
              "4      13.24\n",
              "       ...  \n",
              "173    13.71\n",
              "174    13.40\n",
              "175    13.27\n",
              "176    13.17\n",
              "177    14.13\n",
              "Name: Alcohol, Length: 178, dtype: float64"
            ]
          },
          "metadata": {
            "tags": []
          },
          "execution_count": 7
        }
      ]
    },
    {
      "cell_type": "markdown",
      "metadata": {
        "id": "bN2iaYaRxcCp",
        "colab_type": "text"
      },
      "source": [
        "###Clustering using K Means Algorithm"
      ]
    },
    {
      "cell_type": "code",
      "metadata": {
        "id": "QJie0YXYLpYX",
        "colab_type": "code",
        "outputId": "45d3466b-e7d1-49c3-d390-2a712fca689f",
        "colab": {
          "base_uri": "https://localhost:8080/",
          "height": 284
        }
      },
      "source": [
        "f1 = df_wine.iloc[:,1]\n",
        "f2 = df_wine.iloc[:,2]\n",
        "X = np.array(list(zip(f1, f2)))\n",
        "plt.scatter(f1, f2, c='black', s=8)"
      ],
      "execution_count": 8,
      "outputs": [
        {
          "output_type": "execute_result",
          "data": {
            "text/plain": [
              "<matplotlib.collections.PathCollection at 0x7fec8c628fd0>"
            ]
          },
          "metadata": {
            "tags": []
          },
          "execution_count": 8
        },
        {
          "output_type": "display_data",
          "data": {
            "image/png": "[encoded data removed]",
            "text/plain": [
              "<Figure size 432x288 with 1 Axes>"
            ]
          },
          "metadata": {
            "tags": []
          }
        }
      ]
    },
    {
      "cell_type": "code",
      "metadata": {
        "id": "RdiKsKJ03GZE",
        "colab_type": "code",
        "outputId": "e640948b-5f18-4d87-8406-976f9ee750c6",
        "colab": {
          "base_uri": "https://localhost:8080/",
          "height": 238
        }
      },
      "source": [
        "dt =df_wine.iloc[:,[1,2,3,4,5,6,7,8,9,10,11,12,13] ].values\n",
        "dt"
      ],
      "execution_count": 9,
      "outputs": [
        {
          "output_type": "execute_result",
          "data": {
            "text/plain": [
              "array([[1.423e+01, 1.710e+00, 2.430e+00, ..., 1.040e+00, 3.920e+00,\n",
              "        1.065e+03],\n",
              "       [1.320e+01, 1.780e+00, 2.140e+00, ..., 1.050e+00, 3.400e+00,\n",
              "        1.050e+03],\n",
              "       [1.316e+01, 2.360e+00, 2.670e+00, ..., 1.030e+00, 3.170e+00,\n",
              "        1.185e+03],\n",
              "       ...,\n",
              "       [1.327e+01, 4.280e+00, 2.260e+00, ..., 5.900e-01, 1.560e+00,\n",
              "        8.350e+02],\n",
              "       [1.317e+01, 2.590e+00, 2.370e+00, ..., 6.000e-01, 1.620e+00,\n",
              "        8.400e+02],\n",
              "       [1.413e+01, 4.100e+00, 2.740e+00, ..., 6.100e-01, 1.600e+00,\n",
              "        5.600e+02]])"
            ]
          },
          "metadata": {
            "tags": []
          },
          "execution_count": 9
        }
      ]
    },
    {
      "cell_type": "code",
      "metadata": {
        "id": "NIv2bqC533c1",
        "colab_type": "code",
        "outputId": "8ff25817-2268-4a51-ae42-8c965c8c64b3",
        "colab": {
          "base_uri": "https://localhost:8080/",
          "height": 306
        }
      },
      "source": [
        "kmeans3 = KMeans(n_clusters=3)\n",
        "y_kmeans3 = kmeans3.fit_predict(dt)\n",
        "print(y_kmeans3)\n",
        "\n",
        "kmeans3.cluster_centers_"
      ],
      "execution_count": 10,
      "outputs": [
        {
          "output_type": "stream",
          "text": [
            "[0 0 0 0 2 0 0 0 0 0 0 0 0 0 0 0 0 0 0 2 2 2 0 0 2 2 0 0 2 0 0 0 0 0 0 2 2\n",
            " 0 0 2 2 0 0 2 2 0 0 0 0 0 0 0 0 0 0 0 0 0 0 1 2 1 2 1 1 2 1 1 2 2 2 1 1 0\n",
            " 2 1 1 1 2 1 1 2 2 1 1 1 1 1 2 2 1 1 1 1 1 2 2 1 2 1 2 1 1 1 2 1 1 1 1 2 1\n",
            " 1 2 1 1 1 1 1 1 1 2 1 1 1 1 1 1 1 1 1 2 1 1 2 2 2 2 1 1 1 2 2 1 1 2 2 1 2\n",
            " 2 1 1 1 1 2 2 2 1 2 2 2 1 2 1 2 2 1 2 2 2 2 1 1 2 2 2 2 2 1]\n"
          ],
          "name": "stdout"
        },
        {
          "output_type": "execute_result",
          "data": {
            "text/plain": [
              "array([[1.38044681e+01, 1.88340426e+00, 2.42617021e+00, 1.70234043e+01,\n",
              "        1.05510638e+02, 2.86723404e+00, 3.01425532e+00, 2.85319149e-01,\n",
              "        1.91042553e+00, 5.70255319e+00, 1.07829787e+00, 3.11404255e+00,\n",
              "        1.19514894e+03],\n",
              "       [1.25166667e+01, 2.49420290e+00, 2.28855072e+00, 2.08231884e+01,\n",
              "        9.23478261e+01, 2.07072464e+00, 1.75840580e+00, 3.90144928e-01,\n",
              "        1.45188406e+00, 4.08695651e+00, 9.41159420e-01, 2.49072464e+00,\n",
              "        4.58231884e+02],\n",
              "       [1.29298387e+01, 2.50403226e+00, 2.40806452e+00, 1.98903226e+01,\n",
              "        1.03596774e+02, 2.11112903e+00, 1.58403226e+00, 3.88387097e-01,\n",
              "        1.50338710e+00, 5.65032258e+00, 8.83967742e-01, 2.36548387e+00,\n",
              "        7.28338710e+02]])"
            ]
          },
          "metadata": {
            "tags": []
          },
          "execution_count": 10
        }
      ]
    },
    {
      "cell_type": "markdown",
      "metadata": {
        "id": "2lCyHulX5IWW",
        "colab_type": "text"
      },
      "source": [
        "### Task 3"
      ]
    },
    {
      "cell_type": "markdown",
      "metadata": {
        "id": "fxOI5ubX5Lr1",
        "colab_type": "text"
      },
      "source": [
        "### Scatter plot data into 3 classes based on True Labels and plot with legends, using two variable(random)"
      ]
    },
    {
      "cell_type": "code",
      "metadata": {
        "id": "ck5xAWFSrhRw",
        "colab_type": "code",
        "outputId": "3c97d8e2-cb1a-45e9-dd4c-f606551bde23",
        "colab": {
          "base_uri": "https://localhost:8080/",
          "height": 386
        }
      },
      "source": [
        "# Use the 'hue' argument to provide a factor variable\n",
        "sns.lmplot( x=\"Alcohol\", y=\"Malic_acid\", data=df_wine, fit_reg=False, hue='Class_label', legend=False)\n",
        " \n",
        "# Move the legend to an empty part of the plot\n",
        "plt.legend(loc='lower right')\n"
      ],
      "execution_count": 11,
      "outputs": [
        {
          "output_type": "execute_result",
          "data": {
            "text/plain": [
              "<matplotlib.legend.Legend at 0x7fec8c5be5f8>"
            ]
          },
          "metadata": {
            "tags": []
          },
          "execution_count": 11
        },
        {
          "output_type": "display_data",
          "data": {
            "image/png": "[encoded data removed]",
            "text/plain": [
              "<Figure size 360x360 with 1 Axes>"
            ]
          },
          "metadata": {
            "tags": []
          }
        }
      ]
    },
    {
      "cell_type": "markdown",
      "metadata": {
        "id": "6XgjtVbW8Hk5",
        "colab_type": "text"
      },
      "source": [
        "## Task 4"
      ]
    },
    {
      "cell_type": "markdown",
      "metadata": {
        "id": "EiuYY9cp8KbQ",
        "colab_type": "text"
      },
      "source": [
        "### Use cluster model labels to group them in predicted classes\n"
      ]
    },
    {
      "cell_type": "code",
      "metadata": {
        "id": "c4uCPg-L8QNQ",
        "colab_type": "code",
        "colab": {}
      },
      "source": [
        "# Now we have splitted the data into 70:30 training and test subsets, respectively.\n",
        "from sklearn.model_selection import train_test_split\n",
        "X, y = df_wine.iloc[:, 1:].values, df_wine.iloc[:, 0].values\n",
        "X_train, X_test, y_train, y_test = train_test_split(X, y, test_size=0.3, stratify=y, random_state=0)"
      ],
      "execution_count": 0,
      "outputs": []
    },
    {
      "cell_type": "code",
      "metadata": {
        "id": "FH_NUlsV8aRI",
        "colab_type": "code",
        "outputId": "dbfe6bd9-8e7d-47e9-9c12-001cde5079cd",
        "colab": {
          "base_uri": "https://localhost:8080/",
          "height": 221
        }
      },
      "source": [
        "print(pd.value_counts(pd.Series(y)))\n",
        "print(pd.value_counts(pd.Series(y_train)))\n",
        "print(pd.value_counts(pd.Series(y_test)))"
      ],
      "execution_count": 13,
      "outputs": [
        {
          "output_type": "stream",
          "text": [
            "2    71\n",
            "1    59\n",
            "3    48\n",
            "dtype: int64\n",
            "2    50\n",
            "1    41\n",
            "3    33\n",
            "dtype: int64\n",
            "2    21\n",
            "1    18\n",
            "3    15\n",
            "dtype: int64\n"
          ],
          "name": "stdout"
        }
      ]
    },
    {
      "cell_type": "code",
      "metadata": {
        "id": "W4Aatszc8gyY",
        "colab_type": "code",
        "colab": {}
      },
      "source": [
        "# two methods of rescaling data(varivales measured in different scales) are Normailzation and Standarization\n",
        "# Standardize features by removing the mean and scaling to unit variance\n",
        "# The standard score of a sample x is calculated as:\n",
        "# z = (x - u) / s\n",
        "from sklearn.preprocessing import StandardScaler\n",
        "sc = StandardScaler()\n",
        "X_train_std = sc.fit_transform(X_train)\n",
        "X_test_std = sc.transform(X_test)"
      ],
      "execution_count": 0,
      "outputs": []
    },
    {
      "cell_type": "code",
      "metadata": {
        "id": "cqMp8nX79r36",
        "colab_type": "code",
        "outputId": "23a87b5b-8aae-4917-a298-99c4aa4dea63",
        "colab": {
          "base_uri": "https://localhost:8080/",
          "height": 238
        }
      },
      "source": [
        "X_train_std"
      ],
      "execution_count": 15,
      "outputs": [
        {
          "output_type": "execute_result",
          "data": {
            "text/plain": [
              "array([[ 0.71225893,  2.22048673, -0.13025864, ..., -0.20017028,\n",
              "        -0.82164144, -0.62946362],\n",
              "       [ 0.88229214, -0.70457155,  1.17533605, ...,  1.33982592,\n",
              "         0.54931269,  1.47568796],\n",
              "       [ 0.84585645, -0.73022996,  1.17533605, ...,  1.06806189,\n",
              "         0.1308109 ,  1.62934866],\n",
              "       ...,\n",
              "       [ 1.02803489,  2.29746195, -0.5778911 , ..., -1.69487249,\n",
              "        -1.86068037, -1.04434751],\n",
              "       [-1.30384913, -1.08089484, -0.31677217, ...,  0.16218176,\n",
              "         0.73691694,  0.40313628],\n",
              "       [-0.40510216,  1.29678411,  0.05625489, ...,  1.06806189,\n",
              "         0.73691694, -0.89683324]])"
            ]
          },
          "metadata": {
            "tags": []
          },
          "execution_count": 15
        }
      ]
    },
    {
      "cell_type": "code",
      "metadata": {
        "id": "PpQ5c0xX-jHM",
        "colab_type": "code",
        "outputId": "cbf94d5c-cb89-4862-fa8e-dce4aa9130e4",
        "colab": {
          "base_uri": "https://localhost:8080/",
          "height": 1000
        }
      },
      "source": [
        "X_test_std"
      ],
      "execution_count": 16,
      "outputs": [
        {
          "output_type": "execute_result",
          "data": {
            "text/plain": [
              "array([[ 8.94437367e-01, -3.88117877e-01,  1.10073064e+00,\n",
              "        -8.12017114e-01,  1.13201117e+00,  1.09807851e+00,\n",
              "         7.12041017e-01,  1.81013423e-01,  6.62804643e-02,\n",
              "         5.12859235e-01,  7.96297849e-01,  4.48295020e-01,\n",
              "         1.90593792e+00],\n",
              "       [-1.04879931e+00, -7.72993966e-01,  5.41190056e-01,\n",
              "        -2.40938809e-01,  3.49414498e-01, -7.07219221e-01,\n",
              "        -3.08121293e-01,  6.76138376e-01, -1.03520519e+00,\n",
              "        -9.06567274e-01,  2.24570604e+00, -5.61881713e-01,\n",
              "        -1.22874035e+00],\n",
              "       [ 1.64744158e+00, -4.13776283e-01,  2.42768413e-01,\n",
              "        -1.56343594e+00, -2.19746720e-01,  2.84881333e-01,\n",
              "         4.47191186e-01, -5.61674005e-01,  5.74658458e-01,\n",
              "         6.79643589e-02,  2.98063782e-01,  1.38631627e+00,\n",
              "         1.64471473e+00],\n",
              "       [ 2.02159300e-01, -4.90751501e-01, -9.13615453e-01,\n",
              "        -2.58536553e+00,  6.48338887e-02,  5.28840485e-01,\n",
              "         6.82613258e-01, -8.91757306e-01, -6.11556861e-01,\n",
              "        -3.00662824e-01,  4.33945800e-01,  1.12655654e+00,\n",
              "         9.07143373e-01],\n",
              "       [-8.05894728e-01, -1.09800044e+00, -1.06282627e+00,\n",
              "        -3.91222574e-01, -7.88907938e-01,  1.94380357e+00,\n",
              "         1.65372930e+00, -1.05679896e+00,  5.23820659e-01,\n",
              "        -2.49817695e-01,  3.88651794e-01,  2.17397481e-01,\n",
              "        -2.91410081e-01],\n",
              "       [-7.08732894e-01,  5.78348747e-01,  9.51519815e-01,\n",
              "         2.16360142e+00, -1.48601568e-01, -6.90955277e-01,\n",
              "        -1.45580389e+00,  2.16151323e+00, -8.48799925e-01,\n",
              "         1.02131052e+00, -1.28722643e+00, -1.28343652e+00,\n",
              "         3.84696996e-01],\n",
              "       [-1.44959188e+00,  4.58609519e-01, -5.77891105e-01,\n",
              "        -5.41506338e-01,  9.18575715e-01, -9.83706260e-01,\n",
              "        -7.29919172e-01,  5.11096725e-01, -1.17077265e+00,\n",
              "        -1.03368010e+00,  2.62997455e-02, -1.43379923e-01,\n",
              "        -7.83124318e-01],\n",
              "       [ 5.05790031e-01,  1.15138648e+00,  8.02308994e-01,\n",
              "         9.61331305e-01,  8.47430563e-01, -1.01623415e+00,\n",
              "        -1.12228929e+00,  5.11096725e-01, -3.06530065e-01,\n",
              "         2.36870643e+00, -4.71934321e-01, -1.52876516e+00,\n",
              "        -1.83847591e-01],\n",
              "       [ 8.58001680e-01, -5.84832323e-01, -5.03285694e-01,\n",
              "        -1.02241438e+00,  1.34544663e+00,  4.47520768e-01,\n",
              "         8.19942800e-01, -1.30436143e+00, -3.53951345e-02,\n",
              "         3.22190002e-01, -1.54876279e-01,  8.37934618e-01,\n",
              "         9.37875512e-01],\n",
              "       [ 3.47902051e-01,  7.57957588e-01, -1.83505244e-02,\n",
              "         5.10480012e-01, -5.04327329e-01, -6.42163447e-01,\n",
              "        -1.27923734e+00,  6.76138376e-01, -6.62394660e-01,\n",
              "         1.41112317e+00, -1.83075450e+00, -1.44217858e+00,\n",
              "        -3.22142221e-01],\n",
              "       [ 8.70146909e-01, -5.33515511e-01,  9.35575917e-02,\n",
              "        -1.14264140e+00, -7.17762786e-01,  4.47520768e-01,\n",
              "         6.82613258e-01, -6.44194830e-01,  2.86577595e-01,\n",
              "         2.16262651e-01,  8.86885861e-01,  4.05001732e-01,\n",
              "         1.73691115e+00],\n",
              "       [-9.03056562e-01, -8.07205174e-01, -1.51045874e+00,\n",
              "        -1.14264140e+00, -1.00234339e+00,  3.66201050e-01,\n",
              "         4.27572680e-01, -6.44194830e-01,  2.18793862e-01,\n",
              "        -9.27752744e-01,  1.24923791e+00,  1.74104193e-01,\n",
              "        -1.00439572e+00],\n",
              "       [ 9.06582597e-01,  3.47423093e-01, -3.16772167e-01,\n",
              "         6.60763777e-01, -6.46617634e-01, -1.58547217e+00,\n",
              "        -1.35771136e+00,  3.46055074e-01, -1.03520519e+00,\n",
              "         1.90262608e+00, -1.15134441e+00, -1.35559200e+00,\n",
              "        -4.29704710e-01],\n",
              "       [ 1.00374443e+00, -8.58521986e-01, -4.28680283e-01,\n",
              "        -1.14264140e+00, -7.74564157e-02,  1.06555062e+00,\n",
              "         1.06517412e+00, -1.22184061e+00,  3.54361327e-01,\n",
              "         9.02671888e-01,  2.52769776e-01,  1.34302298e+00,\n",
              "         8.91777303e-01],\n",
              "       [-8.18039958e-01,  1.26257291e+00, -1.83505244e-02,\n",
              "         3.60196248e-01, -7.88907938e-01, -4.03975371e-02,\n",
              "        -1.12228929e+00,  1.08874250e+00, -1.01825926e+00,\n",
              "         1.08486693e+00, -1.78546050e+00, -1.49990297e+00,\n",
              "        -7.21660038e-01],\n",
              "       [ 9.28522366e-02, -3.88117877e-01,  1.36184957e+00,\n",
              "         1.71275013e+00,  1.20315632e+00, -2.03036972e-01,\n",
              "        -7.69156184e-01, -8.91757306e-01, -1.37070733e-01,\n",
              "         8.51826759e-01, -1.55899047e+00, -1.86068037e+00,\n",
              "        -1.01361537e+00],\n",
              "       [ 5.66516178e-01, -4.65093095e-01,  8.39611699e-01,\n",
              "         5.96287194e-02, -2.19746720e-01,  3.33673163e-01,\n",
              "         5.35474463e-01, -7.26715656e-01,  3.23885980e-02,\n",
              "        -6.65052913e-01,  7.51003843e-01,  1.73266258e+00,\n",
              "         2.77134506e-01],\n",
              "       [ 1.44097268e+00,  1.39941774e+00,  4.66584645e-01,\n",
              "        -1.98423048e+00,  2.05689815e+00,  1.09807851e+00,\n",
              "         9.57272342e-01, -1.38688226e+00,  7.44117790e-01,\n",
              "         4.40794804e-03, -2.90758297e-01,  1.31416079e+00,\n",
              "         1.59113176e-02],\n",
              "       [-1.98633266e-01,  1.92969146e+00,  3.54676529e-01,\n",
              "         5.10480012e-01, -9.31198243e-01, -1.01623415e+00,\n",
              "        -1.38713912e+00,  8.41180026e-01, -1.32328605e+00,\n",
              "         1.08486693e+00, -1.87604851e+00, -1.09583227e+00,\n",
              "        -3.98972570e-01],\n",
              "       [-6.84442436e-01, -7.13124352e-01, -6.89799221e-01,\n",
              "        -2.40938809e-01,  4.47583333e+00,  2.84881333e-01,\n",
              "         2.01959862e-01, -3.96632354e-01,  2.77762977e+00,\n",
              "        -1.05486557e+00,  9.32179867e-01,  1.53621347e-02,\n",
              "         5.59870193e-01],\n",
              "       [ 1.62315112e+00, -3.45353867e-01,  4.29281940e-01,\n",
              "        -9.02187372e-01,  9.89720868e-01,  2.48051371e+00,\n",
              "         1.39868873e+00, -1.05679896e+00,  9.13577121e-01,\n",
              "         1.14842334e+00, -4.26640315e-01,  1.19871202e+00,\n",
              "         2.22862539e+00],\n",
              "       [ 8.45856450e-01,  1.71587141e+00, -4.65982989e-01,\n",
              "         8.11047541e-01, -7.88907938e-01, -1.69931977e+00,\n",
              "        -1.56370568e+00,  1.25378415e+00, -8.31853992e-01,\n",
              "         6.48446244e-01, -7.88992364e-01, -1.25457433e+00,\n",
              "        -7.21660038e-01],\n",
              "       [-4.30959748e-03, -1.24339808e+00, -2.51763178e+00,\n",
              "        -1.14264140e+00, -9.31198243e-01, -6.09635560e-01,\n",
              "        -3.34622098e-02, -1.05679896e+00, -3.06530065e-01,\n",
              "        -2.07446755e-01,  1.06806189e+00, -2.01104308e-01,\n",
              "        -1.11503143e+00],\n",
              "       [-7.45168582e-01, -6.36149134e-01, -7.27101926e-01,\n",
              "         8.11047541e-01,  6.33995107e-01, -5.28315842e-01,\n",
              "         2.53933081e-02, -2.31590703e-01, -5.23410677e-02,\n",
              "        -1.28366864e+00,  4.79239806e-01,  4.91588309e-01,\n",
              "        -1.25947249e+00],\n",
              "       [-1.54675371e+00,  2.79000678e-01,  1.99599557e+00,\n",
              "         5.96287194e-02,  2.78269345e-01, -9.34914430e-01,\n",
              "        -3.34622098e-02,  1.91395076e+00, -1.00131332e+00,\n",
              "        -5.46414279e-01,  1.24923791e+00, -1.72242116e-01,\n",
              "        -4.54290422e-01],\n",
              "       [-7.33023353e-01, -7.04571550e-01, -3.54074873e-01,\n",
              "         5.10480012e-01, -9.31198243e-01,  6.75215977e-01,\n",
              "         1.06517412e+00,  1.81013423e-01,  2.18793862e-01,\n",
              "        -4.87094962e-01, -1.19663842e+00,  3.18415155e-01,\n",
              "        -1.23795999e+00],\n",
              "       [ 1.45311791e+00, -5.50621115e-01,  1.68163002e-01,\n",
              "        -1.26286841e+00,  1.98575300e+00,  7.72799638e-01,\n",
              "         9.76890848e-01, -7.26715656e-01,  1.09998239e+00,\n",
              "         2.33211027e-01,  3.88651794e-01,  1.87697354e+00,\n",
              "         9.53241582e-01],\n",
              "       [ 3.96482968e-01,  1.76367054e-01, -1.30258641e-01,\n",
              "         5.96287194e-02, -7.17762786e-01, -1.50415245e+00,\n",
              "        -1.53427792e+00,  1.59717727e-02, -1.69609658e+00,\n",
              "         2.16262651e-01, -1.15134441e+00, -2.15535404e-01,\n",
              "         7.73755972e-02],\n",
              "       [ 5.66516178e-01,  6.55323965e-01,  8.76914404e-01,\n",
              "         1.26189883e+00,  1.70117239e+00, -1.50415245e+00,\n",
              "        -4.84687847e-01, -1.22184061e+00, -6.62394660e-01,\n",
              "         1.48739087e+00, -1.64957848e+00, -1.90397366e+00,\n",
              "        -7.83124318e-01],\n",
              "       [-8.05894728e-01, -1.04668363e+00, -8.39010042e-01,\n",
              "        -2.40938809e-01, -8.60053090e-01,  1.91127568e+00,\n",
              "         1.01612786e+00, -1.46940308e+00,  3.88253194e-01,\n",
              "        -2.71003166e-01,  1.20394390e+00,  3.61708443e-01,\n",
              "        -1.02898144e+00],\n",
              "       [-1.25761890e-01,  1.23691450e+00,  9.88822520e-01,\n",
              "        -3.61165821e-01,  2.07124193e-01,  1.38505841e-01,\n",
              "         3.39289404e-01, -9.74278132e-01,  5.74658458e-01,\n",
              "        -2.49817695e-01,  3.43357788e-01,  1.29972970e+00,\n",
              "         4.66434574e-02],\n",
              "       [ 1.65723612e-01,  2.02025460e-01, -5.56532298e-02,\n",
              "         5.96287194e-02,  1.48773693e+00, -1.09755386e+00,\n",
              "        -1.35771136e+00,  1.33630498e+00, -3.06530065e-01,\n",
              "         1.78398745e+00, -1.60428447e+00, -1.44217858e+00,\n",
              "         2.61768436e-01],\n",
              "       [ 1.42882745e+00,  1.44218175e+00,  2.05465708e-01,\n",
              "        -2.70995562e-01,  8.47430563e-01,  8.54119356e-01,\n",
              "         5.74711475e-01, -5.61674005e-01, -6.62394660e-01,\n",
              "         6.37272648e-02, -3.81346309e-01,  1.02553887e+00,\n",
              "         9.99339792e-01],\n",
              "       [-1.71678692e+00, -3.11142659e-01, -3.91377578e-01,\n",
              "        -5.41506338e-01, -7.74564157e-02,  1.13060640e+00,\n",
              "         1.92150609e-01, -1.63444473e+00, -4.92935329e-01,\n",
              "        -7.79454452e-01,  9.32179867e-01,  4.91588309e-01,\n",
              "        -1.25947249e+00],\n",
              "       [-1.15810638e+00, -4.47987491e-01, -2.42166757e-01,\n",
              "        -3.91222574e-01, -1.28692400e+00, -1.17887358e+00,\n",
              "        -5.53352618e-01,  1.25378415e+00, -1.50326826e-03,\n",
              "        -1.13960745e+00,  5.69827818e-01, -5.04157328e-01,\n",
              "        -8.44588598e-01],\n",
              "       [ 1.05232535e+00, -5.76279521e-01, -9.88220864e-01,\n",
              "        -1.14264140e+00,  1.35979041e-01,  1.26071794e+00,\n",
              "         1.30059620e+00, -1.30436143e+00,  8.45793388e-01,\n",
              "         4.28117354e-01, -2.00170285e-01,  1.02553887e+00,\n",
              "         7.07384464e-01],\n",
              "       [-9.03056562e-01, -6.36149134e-01, -6.52496516e-01,\n",
              "         1.79855731e-01,  2.78269345e-01, -1.99207076e+00,\n",
              "        -1.02419676e+00,  1.59717727e-02, -3.06530065e-01,\n",
              "        -8.64196333e-01, -2.18287887e-01, -1.15355666e+00,\n",
              "         3.53964856e-01],\n",
              "       [ 4.42713195e-02, -7.30229956e-01, -1.06282627e+00,\n",
              "        -1.29292516e+00, -7.74564157e-02,  1.22241898e-01,\n",
              "         5.64902222e-01, -7.26715656e-01, -4.59043463e-01,\n",
              "        -5.88785220e-01,  1.02276788e+00,  1.01948712e-01,\n",
              "         8.14946953e-01],\n",
              "       [ 1.99808610e-02, -4.99304303e-01, -1.06282627e+00,\n",
              "        -8.42073866e-01,  5.62849954e-01,  1.09807851e+00,\n",
              "         9.18035330e-01, -7.26715656e-01,  6.59388124e-01,\n",
              "        -2.10146163e-02, -3.36052303e-01,  1.05440106e+00,\n",
              "         4.00063065e-01],\n",
              "       [-4.05102163e-01,  1.02309445e+00, -9.29559351e-02,\n",
              "         5.10480012e-01,  4.91704802e-01, -1.01623415e+00,\n",
              "        -8.47630207e-01, -1.63444473e+00, -1.35717792e+00,\n",
              "        -3.79629925e-02, -7.88992364e-01, -1.91840476e+00,\n",
              "        -4.75802920e-01],\n",
              "       [-9.51637479e-01,  1.30533692e+00, -6.89799221e-01,\n",
              "        -3.91222574e-01,  9.18575715e-01, -1.53668034e+00,\n",
              "        -1.25961883e+00, -6.44194830e-01, -8.48799925e-01,\n",
              "         1.32214420e+00, -1.37781444e+00, -8.93796926e-01,\n",
              "         3.07866646e-01],\n",
              "       [-1.25526821e+00,  9.20460826e-01, -1.43585333e+00,\n",
              "        -2.40938809e-01, -8.60053090e-01, -5.28315842e-01,\n",
              "        -4.16023076e-01,  1.59717727e-02,  3.88253194e-01,\n",
              "        -1.61416198e+00, -1.09582273e-01,  6.21468175e-01,\n",
              "        -5.86438623e-01],\n",
              "       [-5.26554455e-01, -8.67074788e-01, -1.80888038e+00,\n",
              "        -3.91222574e-01, -7.88907938e-01, -1.42283273e+00,\n",
              "        -6.90682160e-01, -6.44194830e-01, -4.92935329e-01,\n",
              "        -1.11842198e+00,  3.88651794e-01,  2.17397481e-01,\n",
              "        -5.92585051e-01],\n",
              "       [-1.15810638e+00, -2.34167441e-01, -2.55493449e+00,\n",
              "        -6.91790102e-01, -1.48601568e-01, -1.54245142e-01,\n",
              "         1.03867332e-01, -8.91757306e-01, -4.08205663e-01,\n",
              "        -7.58268982e-01,  1.43041393e+00,  4.91588309e-01,\n",
              "        -1.37749382e-01],\n",
              "       [ 7.36549387e-01,  6.38218361e-01,  6.53098172e-01,\n",
              "        -1.38309542e+00,  1.20315632e+00,  6.10160203e-01,\n",
              "         9.47463089e-01, -1.63444473e+00,  3.23885980e-02,\n",
              "         4.40794804e-03,  2.62997455e-02,  1.06883216e+00,\n",
              "         2.77134506e-01],\n",
              "       [-7.45168582e-01,  1.67814252e-01, -4.28680283e-01,\n",
              "         6.60763777e-01, -6.46617634e-01, -1.04876203e+00,\n",
              "        -2.19838016e-01,  2.40907571e+00, -3.74313797e-01,\n",
              "        -1.01249463e+00, -4.26640315e-01,  9.82245580e-01,\n",
              "        -1.35166890e+00],\n",
              "       [-2.43335545e+00, -7.21677154e-01, -6.89799221e-01,\n",
              "         5.10480012e-01, -1.00234339e+00,  2.19825559e-01,\n",
              "         1.03867332e-01,  1.25378415e+00,  6.25496258e-01,\n",
              "        -1.35146215e+00,  3.42335020e+00,  3.61708443e-01,\n",
              "        -1.06893322e+00],\n",
              "       [-1.25761890e-01,  3.90187103e-01,  1.17533605e+00,\n",
              "         3.60196248e-01, -2.19746720e-01, -1.27645724e+00,\n",
              "        -1.53427792e+00,  1.33630498e+00, -1.50969132e+00,\n",
              "        -2.07446755e-01, -8.34286370e-01, -4.46432944e-01,\n",
              "        -4.75802920e-01],\n",
              "       [-1.06094454e+00, -6.36149134e-01, -2.79469462e-01,\n",
              "         9.01217799e-01, -6.46617634e-01, -8.86122599e-01,\n",
              "        -3.66976811e-01,  5.11096725e-01, -1.37070733e-01,\n",
              "        -1.11842198e+00,  1.70217797e+00, -5.18588425e-01,\n",
              "        -7.98490388e-01],\n",
              "       [-1.86488036e-01,  5.44137539e-01,  5.62548863e-02,\n",
              "         5.96287194e-02,  3.49414498e-01, -1.66679189e+00,\n",
              "        -8.28011701e-01, -1.05679896e+00, -1.37412385e+00,\n",
              "         1.31520770e-01, -9.70168388e-01, -1.73080050e+00,\n",
              "        -6.90927899e-01],\n",
              "       [-8.54475645e-01, -1.07234204e+00, -3.91377578e-01,\n",
              "        -1.14264140e+00,  1.35979041e-01, -4.46996125e-01,\n",
              "        -9.55531990e-01,  2.16151323e+00, -2.08585304e+00,\n",
              "        -7.70980264e-01,  1.33982592e+00, -1.37002310e+00,\n",
              "        -2.29945801e-01],\n",
              "       [-8.05894728e-01, -1.20918687e+00, -3.82322647e+00,\n",
              "        -2.76570605e+00, -7.88907938e-01, -5.60843729e-01,\n",
              "        -1.46561315e+00, -7.26715656e-01, -2.06890711e+00,\n",
              "        -1.33027668e+00,  4.33945800e-01, -1.15355666e+00,\n",
              "        -7.21660038e-01],\n",
              "       [ 2.99321134e-01, -6.10490728e-01,  1.69757392e+00,\n",
              "        -1.29292516e+00,  7.76285411e-01,  4.47520768e-01,\n",
              "         6.04139234e-01, -2.31590703e-01, -4.75989396e-01,\n",
              "        -2.07446755e-01,  6.15121824e-01,  2.31828578e-01,\n",
              "         3.84696996e-01],\n",
              "       [-2.22923724e-01, -6.44701936e-01,  5.03887351e-01,\n",
              "        -6.01619844e-01, -2.90891872e-01,  2.52353446e-01,\n",
              "         3.00052392e-01, -8.91757306e-01, -3.06530065e-01,\n",
              "        -4.91332056e-01,  6.15121824e-01,  1.45847175e+00,\n",
              "         7.99580883e-01]])"
            ]
          },
          "metadata": {
            "tags": []
          },
          "execution_count": 16
        }
      ]
    },
    {
      "cell_type": "markdown",
      "metadata": {
        "id": "l1sr2Y1I-7Oa",
        "colab_type": "text"
      },
      "source": [
        "Task 5"
      ]
    },
    {
      "cell_type": "markdown",
      "metadata": {
        "id": "cnANo1JV-94y",
        "colab_type": "text"
      },
      "source": [
        "###Apply PCA with n_components=2 on X_train_std wine data and transform test data accordingly"
      ]
    },
    {
      "cell_type": "code",
      "metadata": {
        "id": "VWO7Kqd7_A1S",
        "colab_type": "code",
        "outputId": "5fcd9a80-73e5-4829-a1a7-47c65327903c",
        "colab": {
          "base_uri": "https://localhost:8080/",
          "height": 68
        }
      },
      "source": [
        "from sklearn.decomposition import PCA\n",
        "pca = PCA()\n",
        "X_train_pca = pca.fit_transform(X_train_std)\n",
        "pca.explained_variance_ratio_"
      ],
      "execution_count": 17,
      "outputs": [
        {
          "output_type": "execute_result",
          "data": {
            "text/plain": [
              "array([0.36951469, 0.18434927, 0.11815159, 0.07334252, 0.06422108,\n",
              "       0.05051724, 0.03954654, 0.02643918, 0.02389319, 0.01629614,\n",
              "       0.01380021, 0.01172226, 0.00820609])"
            ]
          },
          "metadata": {
            "tags": []
          },
          "execution_count": 17
        }
      ]
    },
    {
      "cell_type": "code",
      "metadata": {
        "id": "-okePyhj_cQ5",
        "colab_type": "code",
        "outputId": "19ce7117-1b8c-4b78-c776-96d421c9236f",
        "colab": {
          "base_uri": "https://localhost:8080/",
          "height": 279
        }
      },
      "source": [
        "import matplotlib.pyplot as plt\n",
        "plt.bar(range(1, 14), pca.explained_variance_ratio_, alpha=0.5, align='center')\n",
        "plt.step(range(1, 14), np.cumsum(pca.explained_variance_ratio_), where='mid')\n",
        "plt.ylabel('Explained variance ratio')\n",
        "plt.xlabel('Principal components')\n",
        "plt.savefig('PCA_WINE.png', dpi=300)\n",
        "plt.show()"
      ],
      "execution_count": 18,
      "outputs": [
        {
          "output_type": "display_data",
          "data": {
            "image/png": "[encoded data removed]",
            "text/plain": [
              "<Figure size 432x288 with 1 Axes>"
            ]
          },
          "metadata": {
            "tags": []
          }
        }
      ]
    },
    {
      "cell_type": "code",
      "metadata": {
        "id": "8RXj5UyJBCCB",
        "colab_type": "code",
        "colab": {}
      },
      "source": [
        "pca = PCA(n_components=2)\n",
        "X_train_pca = pca.fit_transform(X_train_std)\n",
        "X_test_pca = pca.transform(X_test_std)"
      ],
      "execution_count": 0,
      "outputs": []
    },
    {
      "cell_type": "code",
      "metadata": {
        "id": "qJpyC6BUBlCE",
        "colab_type": "code",
        "outputId": "8de1c46b-245f-4a56-d276-5c7cf8b25669",
        "colab": {
          "base_uri": "https://localhost:8080/",
          "height": 419
        }
      },
      "source": [
        "principalDf1 = pd.DataFrame(data = X_train_pca, columns = ['principal component 1', 'principal component 2'])\n",
        "principalDf1.iloc[:, 1:2]"
      ],
      "execution_count": 20,
      "outputs": [
        {
          "output_type": "execute_result",
          "data": {
            "text/html": [
              "<div>\n",
              "<style scoped>\n",
              "    .dataframe tbody tr th:only-of-type {\n",
              "        vertical-align: middle;\n",
              "    }\n",
              "\n",
              "    .dataframe tbody tr th {\n",
              "        vertical-align: top;\n",
              "    }\n",
              "\n",
              "    .dataframe thead th {\n",
              "        text-align: right;\n",
              "    }\n",
              "</style>\n",
              "<table border=\"1\" class=\"dataframe\">\n",
              "  <thead>\n",
              "    <tr style=\"text-align: right;\">\n",
              "      <th></th>\n",
              "      <th>principal component 2</th>\n",
              "    </tr>\n",
              "  </thead>\n",
              "  <tbody>\n",
              "    <tr>\n",
              "      <th>0</th>\n",
              "      <td>0.454585</td>\n",
              "    </tr>\n",
              "    <tr>\n",
              "      <th>1</th>\n",
              "      <td>1.653769</td>\n",
              "    </tr>\n",
              "    <tr>\n",
              "      <th>2</th>\n",
              "      <td>1.029091</td>\n",
              "    </tr>\n",
              "    <tr>\n",
              "      <th>3</th>\n",
              "      <td>0.602401</td>\n",
              "    </tr>\n",
              "    <tr>\n",
              "      <th>4</th>\n",
              "      <td>0.662150</td>\n",
              "    </tr>\n",
              "    <tr>\n",
              "      <th>...</th>\n",
              "      <td>...</td>\n",
              "    </tr>\n",
              "    <tr>\n",
              "      <th>119</th>\n",
              "      <td>-2.403558</td>\n",
              "    </tr>\n",
              "    <tr>\n",
              "      <th>120</th>\n",
              "      <td>1.638529</td>\n",
              "    </tr>\n",
              "    <tr>\n",
              "      <th>121</th>\n",
              "      <td>0.665360</td>\n",
              "    </tr>\n",
              "    <tr>\n",
              "      <th>122</th>\n",
              "      <td>-1.506884</td>\n",
              "    </tr>\n",
              "    <tr>\n",
              "      <th>123</th>\n",
              "      <td>-1.297206</td>\n",
              "    </tr>\n",
              "  </tbody>\n",
              "</table>\n",
              "<p>124 rows × 1 columns</p>\n",
              "</div>"
            ],
            "text/plain": [
              "     principal component 2\n",
              "0                 0.454585\n",
              "1                 1.653769\n",
              "2                 1.029091\n",
              "3                 0.602401\n",
              "4                 0.662150\n",
              "..                     ...\n",
              "119              -2.403558\n",
              "120               1.638529\n",
              "121               0.665360\n",
              "122              -1.506884\n",
              "123              -1.297206\n",
              "\n",
              "[124 rows x 1 columns]"
            ]
          },
          "metadata": {
            "tags": []
          },
          "execution_count": 20
        }
      ]
    },
    {
      "cell_type": "code",
      "metadata": {
        "id": "iJnL_LgxBuPz",
        "colab_type": "code",
        "outputId": "c694f2c3-9c57-4f43-874d-4c4b8ad965c2",
        "colab": {
          "base_uri": "https://localhost:8080/",
          "height": 1000
        }
      },
      "source": [
        "principalDf2 = pd.DataFrame(data = X_test_pca, columns = ['principal component 1', 'principal component 2'])\n",
        "principalDf2"
      ],
      "execution_count": 21,
      "outputs": [
        {
          "output_type": "execute_result",
          "data": {
            "text/html": [
              "<div>\n",
              "<style scoped>\n",
              "    .dataframe tbody tr th:only-of-type {\n",
              "        vertical-align: middle;\n",
              "    }\n",
              "\n",
              "    .dataframe tbody tr th {\n",
              "        vertical-align: top;\n",
              "    }\n",
              "\n",
              "    .dataframe thead th {\n",
              "        text-align: right;\n",
              "    }\n",
              "</style>\n",
              "<table border=\"1\" class=\"dataframe\">\n",
              "  <thead>\n",
              "    <tr style=\"text-align: right;\">\n",
              "      <th></th>\n",
              "      <th>principal component 1</th>\n",
              "      <th>principal component 2</th>\n",
              "    </tr>\n",
              "  </thead>\n",
              "  <tbody>\n",
              "    <tr>\n",
              "      <th>0</th>\n",
              "      <td>-2.235751</td>\n",
              "      <td>1.861806</td>\n",
              "    </tr>\n",
              "    <tr>\n",
              "      <th>1</th>\n",
              "      <td>0.537318</td>\n",
              "      <td>-1.661339</td>\n",
              "    </tr>\n",
              "    <tr>\n",
              "      <th>2</th>\n",
              "      <td>-2.362042</td>\n",
              "      <td>1.147674</td>\n",
              "    </tr>\n",
              "    <tr>\n",
              "      <th>3</th>\n",
              "      <td>-2.097719</td>\n",
              "      <td>-0.155720</td>\n",
              "    </tr>\n",
              "    <tr>\n",
              "      <th>4</th>\n",
              "      <td>-2.171636</td>\n",
              "      <td>-1.443650</td>\n",
              "    </tr>\n",
              "    <tr>\n",
              "      <th>5</th>\n",
              "      <td>3.343444</td>\n",
              "      <td>1.163598</td>\n",
              "    </tr>\n",
              "    <tr>\n",
              "      <th>6</th>\n",
              "      <td>1.479022</td>\n",
              "      <td>-1.299896</td>\n",
              "    </tr>\n",
              "    <tr>\n",
              "      <th>7</th>\n",
              "      <td>2.332693</td>\n",
              "      <td>2.505432</td>\n",
              "    </tr>\n",
              "    <tr>\n",
              "      <th>8</th>\n",
              "      <td>-2.087452</td>\n",
              "      <td>0.960819</td>\n",
              "    </tr>\n",
              "    <tr>\n",
              "      <th>9</th>\n",
              "      <td>2.851075</td>\n",
              "      <td>1.535411</td>\n",
              "    </tr>\n",
              "    <tr>\n",
              "      <th>10</th>\n",
              "      <td>-2.062852</td>\n",
              "      <td>0.740344</td>\n",
              "    </tr>\n",
              "    <tr>\n",
              "      <th>11</th>\n",
              "      <td>-0.949304</td>\n",
              "      <td>-2.359212</td>\n",
              "    </tr>\n",
              "    <tr>\n",
              "      <th>12</th>\n",
              "      <td>2.966722</td>\n",
              "      <td>1.605386</td>\n",
              "    </tr>\n",
              "    <tr>\n",
              "      <th>13</th>\n",
              "      <td>-2.683866</td>\n",
              "      <td>0.736512</td>\n",
              "    </tr>\n",
              "    <tr>\n",
              "      <th>14</th>\n",
              "      <td>3.181902</td>\n",
              "      <td>0.701764</td>\n",
              "    </tr>\n",
              "    <tr>\n",
              "      <th>15</th>\n",
              "      <td>1.755101</td>\n",
              "      <td>1.264612</td>\n",
              "    </tr>\n",
              "    <tr>\n",
              "      <th>16</th>\n",
              "      <td>-1.770899</td>\n",
              "      <td>-0.564904</td>\n",
              "    </tr>\n",
              "    <tr>\n",
              "      <th>17</th>\n",
              "      <td>-2.469885</td>\n",
              "      <td>1.546991</td>\n",
              "    </tr>\n",
              "    <tr>\n",
              "      <th>18</th>\n",
              "      <td>3.602914</td>\n",
              "      <td>1.128648</td>\n",
              "    </tr>\n",
              "    <tr>\n",
              "      <th>19</th>\n",
              "      <td>-2.530656</td>\n",
              "      <td>0.126793</td>\n",
              "    </tr>\n",
              "    <tr>\n",
              "      <th>20</th>\n",
              "      <td>-3.699516</td>\n",
              "      <td>2.528402</td>\n",
              "    </tr>\n",
              "    <tr>\n",
              "      <th>21</th>\n",
              "      <td>3.552685</td>\n",
              "      <td>0.887691</td>\n",
              "    </tr>\n",
              "    <tr>\n",
              "      <th>22</th>\n",
              "      <td>-0.269582</td>\n",
              "      <td>-1.800574</td>\n",
              "    </tr>\n",
              "    <tr>\n",
              "      <th>23</th>\n",
              "      <td>0.115363</td>\n",
              "      <td>-2.021063</td>\n",
              "    </tr>\n",
              "    <tr>\n",
              "      <th>24</th>\n",
              "      <td>1.223770</td>\n",
              "      <td>-0.741010</td>\n",
              "    </tr>\n",
              "    <tr>\n",
              "      <th>25</th>\n",
              "      <td>0.066004</td>\n",
              "      <td>-1.441008</td>\n",
              "    </tr>\n",
              "    <tr>\n",
              "      <th>26</th>\n",
              "      <td>-3.263089</td>\n",
              "      <td>1.303126</td>\n",
              "    </tr>\n",
              "    <tr>\n",
              "      <th>27</th>\n",
              "      <td>2.321633</td>\n",
              "      <td>0.368396</td>\n",
              "    </tr>\n",
              "    <tr>\n",
              "      <th>28</th>\n",
              "      <td>2.269179</td>\n",
              "      <td>2.111543</td>\n",
              "    </tr>\n",
              "    <tr>\n",
              "      <th>29</th>\n",
              "      <td>-2.030072</td>\n",
              "      <td>-1.940594</td>\n",
              "    </tr>\n",
              "    <tr>\n",
              "      <th>30</th>\n",
              "      <td>-1.102833</td>\n",
              "      <td>-0.114976</td>\n",
              "    </tr>\n",
              "    <tr>\n",
              "      <th>31</th>\n",
              "      <td>2.424595</td>\n",
              "      <td>2.392831</td>\n",
              "    </tr>\n",
              "    <tr>\n",
              "      <th>32</th>\n",
              "      <td>-1.121749</td>\n",
              "      <td>1.495596</td>\n",
              "    </tr>\n",
              "    <tr>\n",
              "      <th>33</th>\n",
              "      <td>-0.975789</td>\n",
              "      <td>-2.293506</td>\n",
              "    </tr>\n",
              "    <tr>\n",
              "      <th>34</th>\n",
              "      <td>1.415462</td>\n",
              "      <td>-1.918074</td>\n",
              "    </tr>\n",
              "    <tr>\n",
              "      <th>35</th>\n",
              "      <td>-2.706897</td>\n",
              "      <td>0.575533</td>\n",
              "    </tr>\n",
              "    <tr>\n",
              "      <th>36</th>\n",
              "      <td>1.614384</td>\n",
              "      <td>-0.745448</td>\n",
              "    </tr>\n",
              "    <tr>\n",
              "      <th>37</th>\n",
              "      <td>-1.437879</td>\n",
              "      <td>-0.561119</td>\n",
              "    </tr>\n",
              "    <tr>\n",
              "      <th>38</th>\n",
              "      <td>-1.999574</td>\n",
              "      <td>-0.151376</td>\n",
              "    </tr>\n",
              "    <tr>\n",
              "      <th>39</th>\n",
              "      <td>2.113865</td>\n",
              "      <td>0.274604</td>\n",
              "    </tr>\n",
              "    <tr>\n",
              "      <th>40</th>\n",
              "      <td>2.229649</td>\n",
              "      <td>1.115693</td>\n",
              "    </tr>\n",
              "    <tr>\n",
              "      <th>41</th>\n",
              "      <td>0.645493</td>\n",
              "      <td>-2.307791</td>\n",
              "    </tr>\n",
              "    <tr>\n",
              "      <th>42</th>\n",
              "      <td>0.631941</td>\n",
              "      <td>-2.128131</td>\n",
              "    </tr>\n",
              "    <tr>\n",
              "      <th>43</th>\n",
              "      <td>-0.748329</td>\n",
              "      <td>-2.192859</td>\n",
              "    </tr>\n",
              "    <tr>\n",
              "      <th>44</th>\n",
              "      <td>-2.061633</td>\n",
              "      <td>0.838969</td>\n",
              "    </tr>\n",
              "    <tr>\n",
              "      <th>45</th>\n",
              "      <td>1.848894</td>\n",
              "      <td>-1.774579</td>\n",
              "    </tr>\n",
              "    <tr>\n",
              "      <th>46</th>\n",
              "      <td>-0.539704</td>\n",
              "      <td>-3.681368</td>\n",
              "    </tr>\n",
              "    <tr>\n",
              "      <th>47</th>\n",
              "      <td>2.768932</td>\n",
              "      <td>0.251555</td>\n",
              "    </tr>\n",
              "    <tr>\n",
              "      <th>48</th>\n",
              "      <td>0.770579</td>\n",
              "      <td>-2.130090</td>\n",
              "    </tr>\n",
              "    <tr>\n",
              "      <th>49</th>\n",
              "      <td>2.386655</td>\n",
              "      <td>0.372885</td>\n",
              "    </tr>\n",
              "    <tr>\n",
              "      <th>50</th>\n",
              "      <td>1.558014</td>\n",
              "      <td>-0.803597</td>\n",
              "    </tr>\n",
              "    <tr>\n",
              "      <th>51</th>\n",
              "      <td>1.100531</td>\n",
              "      <td>-2.340765</td>\n",
              "    </tr>\n",
              "    <tr>\n",
              "      <th>52</th>\n",
              "      <td>-1.391680</td>\n",
              "      <td>0.667838</td>\n",
              "    </tr>\n",
              "    <tr>\n",
              "      <th>53</th>\n",
              "      <td>-1.637019</td>\n",
              "      <td>-0.645205</td>\n",
              "    </tr>\n",
              "  </tbody>\n",
              "</table>\n",
              "</div>"
            ],
            "text/plain": [
              "    principal component 1  principal component 2\n",
              "0               -2.235751               1.861806\n",
              "1                0.537318              -1.661339\n",
              "2               -2.362042               1.147674\n",
              "3               -2.097719              -0.155720\n",
              "4               -2.171636              -1.443650\n",
              "5                3.343444               1.163598\n",
              "6                1.479022              -1.299896\n",
              "7                2.332693               2.505432\n",
              "8               -2.087452               0.960819\n",
              "9                2.851075               1.535411\n",
              "10              -2.062852               0.740344\n",
              "11              -0.949304              -2.359212\n",
              "12               2.966722               1.605386\n",
              "13              -2.683866               0.736512\n",
              "14               3.181902               0.701764\n",
              "15               1.755101               1.264612\n",
              "16              -1.770899              -0.564904\n",
              "17              -2.469885               1.546991\n",
              "18               3.602914               1.128648\n",
              "19              -2.530656               0.126793\n",
              "20              -3.699516               2.528402\n",
              "21               3.552685               0.887691\n",
              "22              -0.269582              -1.800574\n",
              "23               0.115363              -2.021063\n",
              "24               1.223770              -0.741010\n",
              "25               0.066004              -1.441008\n",
              "26              -3.263089               1.303126\n",
              "27               2.321633               0.368396\n",
              "28               2.269179               2.111543\n",
              "29              -2.030072              -1.940594\n",
              "30              -1.102833              -0.114976\n",
              "31               2.424595               2.392831\n",
              "32              -1.121749               1.495596\n",
              "33              -0.975789              -2.293506\n",
              "34               1.415462              -1.918074\n",
              "35              -2.706897               0.575533\n",
              "36               1.614384              -0.745448\n",
              "37              -1.437879              -0.561119\n",
              "38              -1.999574              -0.151376\n",
              "39               2.113865               0.274604\n",
              "40               2.229649               1.115693\n",
              "41               0.645493              -2.307791\n",
              "42               0.631941              -2.128131\n",
              "43              -0.748329              -2.192859\n",
              "44              -2.061633               0.838969\n",
              "45               1.848894              -1.774579\n",
              "46              -0.539704              -3.681368\n",
              "47               2.768932               0.251555\n",
              "48               0.770579              -2.130090\n",
              "49               2.386655               0.372885\n",
              "50               1.558014              -0.803597\n",
              "51               1.100531              -2.340765\n",
              "52              -1.391680               0.667838\n",
              "53              -1.637019              -0.645205"
            ]
          },
          "metadata": {
            "tags": []
          },
          "execution_count": 21
        }
      ]
    },
    {
      "cell_type": "code",
      "metadata": {
        "id": "tqpgHtcS_iUr",
        "colab_type": "code",
        "outputId": "0b05f595-9de6-4aae-d846-9bfadab7f117",
        "colab": {
          "base_uri": "https://localhost:8080/",
          "height": 279
        }
      },
      "source": [
        "# Plot the first two principal components\n",
        "plt.scatter(X_train_pca[:, 0], X_train_pca[:, 1])\n",
        "plt.xlabel('PC 1')\n",
        "plt.ylabel('PC 2')\n",
        "plt.savefig('PCA_WINE_ULBL.png', dpi=300)\n",
        "plt.show()"
      ],
      "execution_count": 22,
      "outputs": [
        {
          "output_type": "display_data",
          "data": {
            "image/png": "[encoded data removed]",
            "text/plain": [
              "<Figure size 432x288 with 1 Axes>"
            ]
          },
          "metadata": {
            "tags": []
          }
        }
      ]
    },
    {
      "cell_type": "code",
      "metadata": {
        "id": "AnB0x_LtAIjJ",
        "colab_type": "code",
        "outputId": "eb5695e5-e866-41bc-ec19-6c17e1678d28",
        "colab": {
          "base_uri": "https://localhost:8080/",
          "height": 279
        }
      },
      "source": [
        "# Plot of two best principal components using y_train data\n",
        "colors = ['r', 'b', 'g']\n",
        "markers = ['s', 'x', 'o']\n",
        "\n",
        "for l, c, m in zip(np.unique(y_train), colors, markers):\n",
        "    plt.scatter(X_train_pca[y_train == l, 0], \n",
        "                X_train_pca[y_train == l, 1], \n",
        "                c=c, label=l, marker=m)\n",
        "    plt.xlabel('PC 1')\n",
        "    plt.ylabel('PC 2')\n",
        "    plt.legend()\n",
        "    plt.savefig('PCA_WINE_LBL.png', dpi=300)"
      ],
      "execution_count": 23,
      "outputs": [
        {
          "output_type": "display_data",
          "data": {
            "image/png": "[encoded data removed]",
            "text/plain": [
              "<Figure size 432x288 with 1 Axes>"
            ]
          },
          "metadata": {
            "tags": []
          }
        }
      ]
    },
    {
      "cell_type": "markdown",
      "metadata": {
        "id": "2gGSVpXRAUYJ",
        "colab_type": "text"
      },
      "source": [
        "### Task 6"
      ]
    },
    {
      "cell_type": "markdown",
      "metadata": {
        "id": "7dPj-cfmAXFq",
        "colab_type": "text"
      },
      "source": [
        "Apply Logistic Regression on training features and predict test features"
      ]
    },
    {
      "cell_type": "code",
      "metadata": {
        "id": "_SOizLo3AYhi",
        "colab_type": "code",
        "colab": {}
      },
      "source": [
        "from matplotlib.colors import ListedColormap\n",
        "\n",
        "def plot_decision_regions(X, y, classifier, resolution=0.02):\n",
        "\n",
        "    # setup marker generator and color map\n",
        "    markers = ('s', 'x', 'o', '^', 'v')\n",
        "    colors = ('red', 'blue', 'lightgreen', 'gray', 'cyan')\n",
        "    cmap = ListedColormap(colors[:len(np.unique(y))])\n",
        "\n",
        "    # plot the decision surface\n",
        "    x1_min, x1_max = X[:, 0].min() - 1, X[:, 0].max() + 1\n",
        "    x2_min, x2_max = X[:, 1].min() - 1, X[:, 1].max() + 1\n",
        "    xx1, xx2 = np.meshgrid(np.arange(x1_min, x1_max, resolution),\n",
        "                           np.arange(x2_min, x2_max, resolution))\n",
        "    Z = classifier.predict(np.array([xx1.ravel(), xx2.ravel()]).T)\n",
        "    Z = Z.reshape(xx1.shape)\n",
        "    plt.contourf(xx1, xx2, Z, alpha=0.4, cmap=cmap)\n",
        "    plt.xlim(xx1.min(), xx1.max())\n",
        "    plt.ylim(xx2.min(), xx2.max())\n",
        "\n",
        "    # plot class samples\n",
        "    for idx, cl in enumerate(np.unique(y)):\n",
        "        plt.scatter(x=X[y == cl, 0], \n",
        "                    y=X[y == cl, 1],\n",
        "                    alpha=0.6, \n",
        "                    c=cmap(idx),\n",
        "                    edgecolor='black',\n",
        "                    marker=markers[idx], \n",
        "                    label=cl)"
      ],
      "execution_count": 0,
      "outputs": []
    },
    {
      "cell_type": "code",
      "metadata": {
        "id": "C_5krLRiCOzU",
        "colab_type": "code",
        "colab": {}
      },
      "source": [
        "from sklearn.linear_model import LogisticRegression\n",
        "from sklearn.metrics import accuracy_score"
      ],
      "execution_count": 0,
      "outputs": []
    },
    {
      "cell_type": "code",
      "metadata": {
        "id": "8AMsDThvCR7q",
        "colab_type": "code",
        "outputId": "e954bda3-e0c7-469a-dec3-f5e109ddf51c",
        "colab": {
          "base_uri": "https://localhost:8080/",
          "height": 34
        }
      },
      "source": [
        "pca = PCA(n_components=2)\n",
        "X_train_pca = pca.fit_transform(X_train_std)\n",
        "X_test_pca = pca.transform(X_test_std)\n",
        "\n",
        "# Task 6: Apply Logistic Regression on training features and predict test features\n",
        "\n",
        "lr = LogisticRegression()\n",
        "lr = lr.fit(X_train_pca,y_train) # Train a Logistic regression model\n",
        "pred_lab=lr.predict(X_test_pca) # Test on the test data\n",
        "print(\"Accuracy on test is = %f\" % (100 * accuracy_score(y_test, pred_lab)))"
      ],
      "execution_count": 26,
      "outputs": [
        {
          "output_type": "stream",
          "text": [
            "Accuracy on test is = 92.592593\n"
          ],
          "name": "stdout"
        }
      ]
    },
    {
      "cell_type": "code",
      "metadata": {
        "id": "b3lfAGSoFM-S",
        "colab_type": "code",
        "outputId": "de43e1a8-da34-4ac2-8526-56de56e4a586",
        "colab": {
          "base_uri": "https://localhost:8080/",
          "height": 384
        }
      },
      "source": [
        "# Plot the decision region on training features and test labels using classifier you have trained above\n",
        "\n",
        "plot_decision_regions(X_train_pca, y_train, classifier=lr)\n",
        "plt.xlabel('PC 1')\n",
        "plt.ylabel('PC 2')\n",
        "plt.legend(loc='lower left')\n",
        "plt.tight_layout()\n",
        "plt.title('Plot on the training data')\n",
        "plt.savefig('TRAIN_CLASS.png', dpi=300)\n",
        "plt.show()"
      ],
      "execution_count": 27,
      "outputs": [
        {
          "output_type": "stream",
          "text": [
            "'c' argument looks like a single numeric RGB or RGBA sequence, which should be avoided as value-mapping will have precedence in case its length matches with 'x' & 'y'.  Please use a 2-D array with a single row if you really want to specify the same RGB or RGBA value for all points.\n",
            "'c' argument looks like a single numeric RGB or RGBA sequence, which should be avoided as value-mapping will have precedence in case its length matches with 'x' & 'y'.  Please use a 2-D array with a single row if you really want to specify the same RGB or RGBA value for all points.\n",
            "'c' argument looks like a single numeric RGB or RGBA sequence, which should be avoided as value-mapping will have precedence in case its length matches with 'x' & 'y'.  Please use a 2-D array with a single row if you really want to specify the same RGB or RGBA value for all points.\n"
          ],
          "name": "stderr"
        },
        {
          "output_type": "display_data",
          "data": {
            "image/png": "[encoded data removed]",
            "text/plain": [
              "<Figure size 432x288 with 1 Axes>"
            ]
          },
          "metadata": {
            "tags": []
          }
        }
      ]
    },
    {
      "cell_type": "code",
      "metadata": {
        "id": "luxzWR96oLQ-",
        "colab_type": "code",
        "outputId": "1434f557-0cea-41aa-9f89-97e3cf82cfbf",
        "colab": {
          "base_uri": "https://localhost:8080/",
          "height": 384
        }
      },
      "source": [
        "#  Plot the decision region on test features and true labels using classifier you have trained above\n",
        "plot_decision_regions(X_test_pca,y_test, classifier=lr)\n",
        "plt.xlabel('PC 1')\n",
        "plt.ylabel('PC 2')\n",
        "plt.legend(loc='lower left')\n",
        "plt.tight_layout()\n",
        "plt.title('Plot on the test (true) data')\n",
        "plt.savefig('TEST_CLASS_TRUE.png', dpi=300)\n",
        "plt.show()"
      ],
      "execution_count": 28,
      "outputs": [
        {
          "output_type": "stream",
          "text": [
            "'c' argument looks like a single numeric RGB or RGBA sequence, which should be avoided as value-mapping will have precedence in case its length matches with 'x' & 'y'.  Please use a 2-D array with a single row if you really want to specify the same RGB or RGBA value for all points.\n",
            "'c' argument looks like a single numeric RGB or RGBA sequence, which should be avoided as value-mapping will have precedence in case its length matches with 'x' & 'y'.  Please use a 2-D array with a single row if you really want to specify the same RGB or RGBA value for all points.\n",
            "'c' argument looks like a single numeric RGB or RGBA sequence, which should be avoided as value-mapping will have precedence in case its length matches with 'x' & 'y'.  Please use a 2-D array with a single row if you really want to specify the same RGB or RGBA value for all points.\n"
          ],
          "name": "stderr"
        },
        {
          "output_type": "display_data",
          "data": {
            "image/png": "[encoded data removed]",
            "text/plain": [
              "<Figure size 432x288 with 1 Axes>"
            ]
          },
          "metadata": {
            "tags": []
          }
        }
      ]
    },
    {
      "cell_type": "code",
      "metadata": {
        "id": "gByyrm_xpLkD",
        "colab_type": "code",
        "outputId": "40d7c188-bc14-42da-9272-df17a5436771",
        "colab": {
          "base_uri": "https://localhost:8080/",
          "height": 368
        }
      },
      "source": [
        "#  Plot the decision region on test features and predicted labels using classifier you have trained above\n",
        "plot_decision_regions(X_test_pca, pred_lab, classifier=lr)\n",
        "plt.xlabel('PC 1')\n",
        "plt.ylabel('PC 2')\n",
        "plt.legend(loc='lower left')\n",
        "plt.title('Plot on the test (predicted) labels')\n",
        "plt.tight_layout()\n",
        "plt.savefig('TEST_CLASS.png', dpi=300)\n",
        "plt.show()"
      ],
      "execution_count": 29,
      "outputs": [
        {
          "output_type": "stream",
          "text": [
            "'c' argument looks like a single numeric RGB or RGBA sequence, which should be avoided as value-mapping will have precedence in case its length matches with 'x' & 'y'.  Please use a 2-D array with a single row if you really want to specify the same RGB or RGBA value for all points.\n",
            "'c' argument looks like a single numeric RGB or RGBA sequence, which should be avoided as value-mapping will have precedence in case its length matches with 'x' & 'y'.  Please use a 2-D array with a single row if you really want to specify the same RGB or RGBA value for all points.\n",
            "'c' argument looks like a single numeric RGB or RGBA sequence, which should be avoided as value-mapping will have precedence in case its length matches with 'x' & 'y'.  Please use a 2-D array with a single row if you really want to specify the same RGB or RGBA value for all points.\n"
          ],
          "name": "stderr"
        },
        {
          "output_type": "display_data",
          "data": {
            "image/png": "[encoded data removed]",
            "text/plain": [
              "<Figure size 432x288 with 1 Axes>"
            ]
          },
          "metadata": {
            "tags": []
          }
        }
      ]
    }
  ]
}
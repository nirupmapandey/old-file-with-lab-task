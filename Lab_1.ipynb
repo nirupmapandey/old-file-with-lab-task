{
  "nbformat": 4,
  "nbformat_minor": 0,
  "metadata": {
    "colab": {
      "name": "Lab_1.ipynb",
      "provenance": [],
      "collapsed_sections": []
    },
    "kernelspec": {
      "name": "python3",
      "display_name": "Python 3"
    }
  },
  "cells": [
    {
      "cell_type": "markdown",
      "metadata": {
        "id": "RdUQyeSg02Bv",
        "colab_type": "text"
      },
      "source": [
        "## first problem\n",
        "\n",
        "\n"
      ]
    },
    {
      "cell_type": "code",
      "metadata": {
        "id": "SmwrrwYJ3FaA",
        "colab_type": "code",
        "outputId": "6ea24064-e866-4fed-f2f8-2bcf2d038142",
        "colab": {
          "base_uri": "https://localhost:8080/",
          "height": 85
        }
      },
      "source": [
        "import numpy as np\n",
        "a = np.random.rand(4,2)\n",
        "print(a)"
      ],
      "execution_count": 0,
      "outputs": [
        {
          "output_type": "stream",
          "text": [
            "[[0.97254805 0.33493797]\n",
            " [0.29147949 0.26528189]\n",
            " [0.67354801 0.08462112]\n",
            " [0.77389845 0.48840445]]\n"
          ],
          "name": "stdout"
        }
      ]
    },
    {
      "cell_type": "markdown",
      "metadata": {
        "id": "od8Kspyb3yFC",
        "colab_type": "text"
      },
      "source": [
        "## second problem\n"
      ]
    },
    {
      "cell_type": "code",
      "metadata": {
        "id": "tuoCvGN14Bya",
        "colab_type": "code",
        "colab": {}
      },
      "source": [
        "def ascending_sort(x):\n",
        "  rows, cols = x.shape\n",
        "  for i in range(cols):\n",
        "      index_min= i+np.argmin(x[0][i:])\n",
        "      print(index_min)\n",
        "      temp_val = x[0][i]\n",
        "      print(temp_val)\n",
        "      x[0][i] = x[0][index_min]\n",
        "      print(x[0][i])\n",
        "      x[0][index_min] = temp_val\n",
        "      print(x[0][index_min])\n",
        "  return x"
      ],
      "execution_count": 0,
      "outputs": []
    },
    {
      "cell_type": "code",
      "metadata": {
        "id": "3u3_H-Xu5fDU",
        "colab_type": "code",
        "outputId": "50c2b084-5a5c-4c6e-cd23-6e50b7e67b72",
        "colab": {
          "base_uri": "https://localhost:8080/",
          "height": 51
        }
      },
      "source": [
        "a2 = np.random.rand(1,10)\n",
        "a2\n"
      ],
      "execution_count": 0,
      "outputs": [
        {
          "output_type": "execute_result",
          "data": {
            "text/plain": [
              "array([[0.22462554, 0.69729959, 0.48174829, 0.99960235, 0.47757818,\n",
              "        0.16727243, 0.74766869, 0.41146294, 0.47967081, 0.35020314]])"
            ]
          },
          "metadata": {
            "tags": []
          },
          "execution_count": 65
        }
      ]
    },
    {
      "cell_type": "code",
      "metadata": {
        "id": "SX-0tloxVHnm",
        "colab_type": "code",
        "outputId": "12bb3811-169e-4597-9667-de1c4f2a078d",
        "colab": {
          "base_uri": "https://localhost:8080/",
          "height": 68
        }
      },
      "source": [
        "print(a2[0][3:])\n",
        "np.argmin(a2[0][3:])"
      ],
      "execution_count": 0,
      "outputs": [
        {
          "output_type": "stream",
          "text": [
            "[0.99960235 0.47757818 0.16727243 0.74766869 0.41146294 0.47967081\n",
            " 0.35020314]\n"
          ],
          "name": "stdout"
        },
        {
          "output_type": "execute_result",
          "data": {
            "text/plain": [
              "2"
            ]
          },
          "metadata": {
            "tags": []
          },
          "execution_count": 66
        }
      ]
    },
    {
      "cell_type": "code",
      "metadata": {
        "id": "AwobJjjhHsVm",
        "colab_type": "code",
        "outputId": "3af59ea2-c0ef-4c1b-cf92-a2963d1cb912",
        "colab": {
          "base_uri": "https://localhost:8080/",
          "height": 731
        }
      },
      "source": [
        "ascending_sort(a2)"
      ],
      "execution_count": 0,
      "outputs": [
        {
          "output_type": "stream",
          "text": [
            "5\n",
            "0.22462553610286418\n",
            "0.16727243454177432\n",
            "0.22462553610286418\n",
            "5\n",
            "0.6972995853971162\n",
            "0.22462553610286418\n",
            "0.6972995853971162\n",
            "9\n",
            "0.4817482920708357\n",
            "0.35020313659251145\n",
            "0.4817482920708357\n",
            "7\n",
            "0.9996023522240535\n",
            "0.4114629360574268\n",
            "0.9996023522240535\n",
            "4\n",
            "0.4775781771161356\n",
            "0.4775781771161356\n",
            "0.4775781771161356\n",
            "8\n",
            "0.6972995853971162\n",
            "0.47967081435911385\n",
            "0.6972995853971162\n",
            "9\n",
            "0.7476686856738654\n",
            "0.4817482920708357\n",
            "0.7476686856738654\n",
            "8\n",
            "0.9996023522240535\n",
            "0.6972995853971162\n",
            "0.9996023522240535\n",
            "9\n",
            "0.9996023522240535\n",
            "0.7476686856738654\n",
            "0.9996023522240535\n",
            "9\n",
            "0.9996023522240535\n",
            "0.9996023522240535\n",
            "0.9996023522240535\n"
          ],
          "name": "stdout"
        },
        {
          "output_type": "execute_result",
          "data": {
            "text/plain": [
              "array([[0.16727243, 0.22462554, 0.35020314, 0.41146294, 0.47757818,\n",
              "        0.47967081, 0.48174829, 0.69729959, 0.74766869, 0.99960235]])"
            ]
          },
          "metadata": {
            "tags": []
          },
          "execution_count": 69
        }
      ]
    },
    {
      "cell_type": "code",
      "metadata": {
        "id": "8VNJPuYz6bXH",
        "colab_type": "code",
        "colab": {}
      },
      "source": [
        "def descending_sort(x):\n",
        "  rows, cols = x.shape\n",
        "  for i in range(cols):\n",
        "      index_min= i+np.argmax(x[0][i:])\n",
        "      print(index_min)\n",
        "      temp_val = x[0][i]\n",
        "      print(temp_val)\n",
        "      x[0][i] = x[0][index_min]\n",
        "      print(x[0][i])\n",
        "      x[0][index_min] = temp_val\n",
        "      print(x[0][index_min])\n",
        "  return x"
      ],
      "execution_count": 0,
      "outputs": []
    },
    {
      "cell_type": "code",
      "metadata": {
        "id": "0E637exv7o1J",
        "colab_type": "code",
        "outputId": "575be64b-8f46-4802-fa73-fd483d73333d",
        "colab": {
          "base_uri": "https://localhost:8080/",
          "height": 731
        }
      },
      "source": [
        "descending_sort(a2)"
      ],
      "execution_count": 0,
      "outputs": [
        {
          "output_type": "stream",
          "text": [
            "9\n",
            "0.16727243454177432\n",
            "0.9996023522240535\n",
            "0.16727243454177432\n",
            "8\n",
            "0.22462553610286418\n",
            "0.7476686856738654\n",
            "0.22462553610286418\n",
            "7\n",
            "0.35020313659251145\n",
            "0.6972995853971162\n",
            "0.35020313659251145\n",
            "6\n",
            "0.4114629360574268\n",
            "0.4817482920708357\n",
            "0.4114629360574268\n",
            "5\n",
            "0.4775781771161356\n",
            "0.47967081435911385\n",
            "0.4775781771161356\n",
            "5\n",
            "0.4775781771161356\n",
            "0.4775781771161356\n",
            "0.4775781771161356\n",
            "6\n",
            "0.4114629360574268\n",
            "0.4114629360574268\n",
            "0.4114629360574268\n",
            "7\n",
            "0.35020313659251145\n",
            "0.35020313659251145\n",
            "0.35020313659251145\n",
            "8\n",
            "0.22462553610286418\n",
            "0.22462553610286418\n",
            "0.22462553610286418\n",
            "9\n",
            "0.16727243454177432\n",
            "0.16727243454177432\n",
            "0.16727243454177432\n"
          ],
          "name": "stdout"
        },
        {
          "output_type": "execute_result",
          "data": {
            "text/plain": [
              "array([[0.99960235, 0.74766869, 0.69729959, 0.48174829, 0.47967081,\n",
              "        0.47757818, 0.41146294, 0.35020314, 0.22462554, 0.16727243]])"
            ]
          },
          "metadata": {
            "tags": []
          },
          "execution_count": 71
        }
      ]
    },
    {
      "cell_type": "markdown",
      "metadata": {
        "id": "6PsFPPbD76aM",
        "colab_type": "text"
      },
      "source": [
        "##3rd problem"
      ]
    },
    {
      "cell_type": "code",
      "metadata": {
        "id": "1NXqSzTW79r5",
        "colab_type": "code",
        "outputId": "ab643fdc-6b3a-4d1b-b380-67d76a404098",
        "colab": {
          "base_uri": "https://localhost:8080/",
          "height": 34
        }
      },
      "source": [
        "x= np.array([1,2, 3, 4, 5, 6, 7, 8, 9])\n",
        "print(x)"
      ],
      "execution_count": 0,
      "outputs": [
        {
          "output_type": "stream",
          "text": [
            "[1 2 3 4 5 6 7 8 9]\n"
          ],
          "name": "stdout"
        }
      ]
    },
    {
      "cell_type": "code",
      "metadata": {
        "id": "YmGvI1Jf8j2v",
        "colab_type": "code",
        "outputId": "625086ab-bf0f-42dc-e220-35b79186880c",
        "colab": {
          "base_uri": "https://localhost:8080/",
          "height": 68
        }
      },
      "source": [
        "np.reshape(x, (3,3))"
      ],
      "execution_count": 0,
      "outputs": [
        {
          "output_type": "execute_result",
          "data": {
            "text/plain": [
              "array([[1, 2, 3],\n",
              "       [4, 5, 6],\n",
              "       [7, 8, 9]])"
            ]
          },
          "metadata": {
            "tags": []
          },
          "execution_count": 30
        }
      ]
    },
    {
      "cell_type": "markdown",
      "metadata": {
        "id": "Kw_KmTD59UNq",
        "colab_type": "text"
      },
      "source": [
        "##4th problem"
      ]
    },
    {
      "cell_type": "code",
      "metadata": {
        "id": "1g4G5oZL9Xei",
        "colab_type": "code",
        "outputId": "1a0f7131-4cd7-4b76-ad75-a72e1b590dd3",
        "colab": {
          "base_uri": "https://localhost:8080/",
          "height": 51
        }
      },
      "source": [
        "a = np.random.rand(2,3)\n",
        "a"
      ],
      "execution_count": 0,
      "outputs": [
        {
          "output_type": "execute_result",
          "data": {
            "text/plain": [
              "array([[0.11288289, 0.13576893, 0.63857861],\n",
              "       [0.90395301, 0.24721243, 0.33555663]])"
            ]
          },
          "metadata": {
            "tags": []
          },
          "execution_count": 20
        }
      ]
    },
    {
      "cell_type": "code",
      "metadata": {
        "id": "HFkfevMJGOik",
        "colab_type": "code",
        "outputId": "29d1b178-beaf-4aff-9f40-cc13fef3052b",
        "colab": {
          "base_uri": "https://localhost:8080/",
          "height": 51
        }
      },
      "source": [
        "b= np.random.rand(2,4)\n",
        "b"
      ],
      "execution_count": 0,
      "outputs": [
        {
          "output_type": "execute_result",
          "data": {
            "text/plain": [
              "array([[0.27416852, 0.42063241, 0.0440389 , 0.27320095],\n",
              "       [0.88158788, 0.37531577, 0.21307972, 0.96186599]])"
            ]
          },
          "metadata": {
            "tags": []
          },
          "execution_count": 23
        }
      ]
    },
    {
      "cell_type": "code",
      "metadata": {
        "id": "LwjU6hioF3e1",
        "colab_type": "code",
        "outputId": "1dc9b095-f092-47fd-eb1d-633168a64116",
        "colab": {
          "base_uri": "https://localhost:8080/",
          "height": 85
        }
      },
      "source": [
        "# stacking 2 arrays horizontally, need to have same number of rows\n",
        "np.hstack((a, b))        ## joining horizontally"
      ],
      "execution_count": 0,
      "outputs": [
        {
          "output_type": "execute_result",
          "data": {
            "text/plain": [
              "array([[0.11288289, 0.13576893, 0.63857861, 0.27416852, 0.42063241,\n",
              "        0.0440389 , 0.27320095],\n",
              "       [0.90395301, 0.24721243, 0.33555663, 0.88158788, 0.37531577,\n",
              "        0.21307972, 0.96186599]])"
            ]
          },
          "metadata": {
            "tags": []
          },
          "execution_count": 24
        }
      ]
    },
    {
      "cell_type": "code",
      "metadata": {
        "id": "Em2emxgiGdT0",
        "colab_type": "code",
        "outputId": "c8dab6b5-c9fe-4a19-e857-45030cce8fbb",
        "colab": {
          "base_uri": "https://localhost:8080/",
          "height": 102
        }
      },
      "source": [
        "c = np.random.rand(5,4)\n",
        "c"
      ],
      "execution_count": 0,
      "outputs": [
        {
          "output_type": "execute_result",
          "data": {
            "text/plain": [
              "array([[0.18513116, 0.37950993, 0.60805614, 0.58070155],\n",
              "       [0.19160996, 0.53072826, 0.84218967, 0.858367  ],\n",
              "       [0.72909346, 0.99993813, 0.83137246, 0.03786377],\n",
              "       [0.6179399 , 0.86119414, 0.54935659, 0.7381191 ],\n",
              "       [0.21713906, 0.36430872, 0.52516043, 0.35180778]])"
            ]
          },
          "metadata": {
            "tags": []
          },
          "execution_count": 26
        }
      ]
    },
    {
      "cell_type": "code",
      "metadata": {
        "id": "Ku72zVvn-Yll",
        "colab_type": "code",
        "outputId": "22b11022-8734-4013-b085-cebc6324a85a",
        "colab": {
          "base_uri": "https://localhost:8080/",
          "height": 136
        }
      },
      "source": [
        "# stacking 2 arrays vertically, need to have same number of columns\n",
        "np.vstack((c, b))      ## joining vertically"
      ],
      "execution_count": 0,
      "outputs": [
        {
          "output_type": "execute_result",
          "data": {
            "text/plain": [
              "array([[0.18513116, 0.37950993, 0.60805614, 0.58070155],\n",
              "       [0.19160996, 0.53072826, 0.84218967, 0.858367  ],\n",
              "       [0.72909346, 0.99993813, 0.83137246, 0.03786377],\n",
              "       [0.6179399 , 0.86119414, 0.54935659, 0.7381191 ],\n",
              "       [0.21713906, 0.36430872, 0.52516043, 0.35180778],\n",
              "       [0.27416852, 0.42063241, 0.0440389 , 0.27320095],\n",
              "       [0.88158788, 0.37531577, 0.21307972, 0.96186599]])"
            ]
          },
          "metadata": {
            "tags": []
          },
          "execution_count": 27
        }
      ]
    },
    {
      "cell_type": "markdown",
      "metadata": {
        "id": "vtAlQKh1-0Wn",
        "colab_type": "text"
      },
      "source": [
        "## 5th problem"
      ]
    },
    {
      "cell_type": "code",
      "metadata": {
        "id": "ckj4M-Pq-2vW",
        "colab_type": "code",
        "outputId": "7cbbd9d0-5ed4-48fa-d4f5-7834f7793a37",
        "colab": {
          "base_uri": "https://localhost:8080/",
          "height": 119
        }
      },
      "source": [
        "a5 = np.random.randint(2, 20, (3, 4))\n",
        "b5 = np.random.randint(2, 20, (3, 4))\n",
        "print('a5 = ' + str(a5))\n",
        "print('b5 = ' + str(b5))"
      ],
      "execution_count": 0,
      "outputs": [
        {
          "output_type": "stream",
          "text": [
            "a5 = [[12 15 16 11]\n",
            " [ 3  5  6 15]\n",
            " [10 16  4  2]]\n",
            "b5 = [[ 9  6 16  7]\n",
            " [ 6  6  5  3]\n",
            " [ 4 11  7 10]]\n"
          ],
          "name": "stdout"
        }
      ]
    },
    {
      "cell_type": "markdown",
      "metadata": {
        "id": "o4c9Ba50JArc",
        "colab_type": "text"
      },
      "source": [
        ""
      ]
    },
    {
      "cell_type": "code",
      "metadata": {
        "id": "M-5rlQ2u05QH",
        "colab_type": "code",
        "outputId": "42d2d3ab-bd62-4e20-f6da-3c602de2a8c9",
        "colab": {
          "base_uri": "https://localhost:8080/",
          "height": 34
        }
      },
      "source": [
        "np.intersect1d(a5, b5)"
      ],
      "execution_count": 0,
      "outputs": [
        {
          "output_type": "execute_result",
          "data": {
            "text/plain": [
              "array([ 3,  4,  5,  6, 10, 11, 16])"
            ]
          },
          "metadata": {
            "tags": []
          },
          "execution_count": 79
        }
      ]
    },
    {
      "cell_type": "markdown",
      "metadata": {
        "id": "7Fl6kc0EJB6N",
        "colab_type": "text"
      },
      "source": [
        "##6th problem"
      ]
    },
    {
      "cell_type": "code",
      "metadata": {
        "id": "5EIo3cPtJEUu",
        "colab_type": "code",
        "outputId": "82fdaad0-3b4f-462f-ad84-528e5ca25425",
        "colab": {
          "base_uri": "https://localhost:8080/",
          "height": 102
        }
      },
      "source": [
        "a6= np.random.randint(0,20,(5,5))\n",
        "print (a6)"
      ],
      "execution_count": 0,
      "outputs": [
        {
          "output_type": "stream",
          "text": [
            "[[13 12  3 11  8]\n",
            " [17 12 19 17 16]\n",
            " [12  4 17  3 12]\n",
            " [18  4  5  9 11]\n",
            " [ 1 13  3  1 12]]\n"
          ],
          "name": "stdout"
        }
      ]
    },
    {
      "cell_type": "code",
      "metadata": {
        "id": "ew2aXg3kJwFh",
        "colab_type": "code",
        "outputId": "a619d26f-dc10-4c28-935a-87f07c9ab2ce",
        "colab": {
          "base_uri": "https://localhost:8080/",
          "height": 34
        }
      },
      "source": [
        "c_max = np.amax(a6, axis =0)\n",
        "print(c_max )"
      ],
      "execution_count": 0,
      "outputs": [
        {
          "output_type": "stream",
          "text": [
            "[18 13 19 17 16]\n"
          ],
          "name": "stdout"
        }
      ]
    },
    {
      "cell_type": "code",
      "metadata": {
        "id": "ztfd7MklNN6W",
        "colab_type": "code",
        "outputId": "2fe8111b-8f57-4ce6-ca2a-496f0c333b2a",
        "colab": {
          "base_uri": "https://localhost:8080/",
          "height": 34
        }
      },
      "source": [
        "c_min = np.amin(a6, axis =0)\n",
        "print(c_min )"
      ],
      "execution_count": 0,
      "outputs": [
        {
          "output_type": "stream",
          "text": [
            "[1 4 3 1 8]\n"
          ],
          "name": "stdout"
        }
      ]
    },
    {
      "cell_type": "code",
      "metadata": {
        "id": "TAIAHRWbNTQe",
        "colab_type": "code",
        "outputId": "d8278f20-54f3-428a-c343-738a2b8ed7a9",
        "colab": {
          "base_uri": "https://localhost:8080/",
          "height": 34
        }
      },
      "source": [
        "r_max = np.amax(a6, axis =1)\n",
        "print(r_max )"
      ],
      "execution_count": 0,
      "outputs": [
        {
          "output_type": "stream",
          "text": [
            "[13 19 17 18 13]\n"
          ],
          "name": "stdout"
        }
      ]
    },
    {
      "cell_type": "code",
      "metadata": {
        "id": "AAmOrKJdNXCH",
        "colab_type": "code",
        "outputId": "8d6a79f4-064f-42bf-c1b1-81f7f34e911a",
        "colab": {
          "base_uri": "https://localhost:8080/",
          "height": 34
        }
      },
      "source": [
        "r_min = np.amin(a6, axis =0)\n",
        "print(r_min )"
      ],
      "execution_count": 0,
      "outputs": [
        {
          "output_type": "stream",
          "text": [
            "[1 4 3 1 8]\n"
          ],
          "name": "stdout"
        }
      ]
    },
    {
      "cell_type": "markdown",
      "metadata": {
        "id": "ryfzzaOiNdUu",
        "colab_type": "text"
      },
      "source": [
        "##7th problem"
      ]
    },
    {
      "cell_type": "code",
      "metadata": {
        "id": "t-1ZYaYqNhfA",
        "colab_type": "code",
        "outputId": "1c09ccae-6452-48a2-a222-3cc2a01999cf",
        "colab": {
          "base_uri": "https://localhost:8080/",
          "height": 102
        }
      },
      "source": [
        "a7 = np.arange(100)\n",
        "print(a7)"
      ],
      "execution_count": 0,
      "outputs": [
        {
          "output_type": "stream",
          "text": [
            "[ 0  1  2  3  4  5  6  7  8  9 10 11 12 13 14 15 16 17 18 19 20 21 22 23\n",
            " 24 25 26 27 28 29 30 31 32 33 34 35 36 37 38 39 40 41 42 43 44 45 46 47\n",
            " 48 49 50 51 52 53 54 55 56 57 58 59 60 61 62 63 64 65 66 67 68 69 70 71\n",
            " 72 73 74 75 76 77 78 79 80 81 82 83 84 85 86 87 88 89 90 91 92 93 94 95\n",
            " 96 97 98 99]\n"
          ],
          "name": "stdout"
        }
      ]
    },
    {
      "cell_type": "code",
      "metadata": {
        "id": "Uc7eNzg7N5bf",
        "colab_type": "code",
        "outputId": "9da3e4cb-8ed5-4f83-b826-43bac0a91a0c",
        "colab": {
          "base_uri": "https://localhost:8080/",
          "height": 34
        }
      },
      "source": [
        "np.mean(a7)"
      ],
      "execution_count": 0,
      "outputs": [
        {
          "output_type": "execute_result",
          "data": {
            "text/plain": [
              "49.5"
            ]
          },
          "metadata": {
            "tags": []
          },
          "execution_count": 11
        }
      ]
    },
    {
      "cell_type": "code",
      "metadata": {
        "id": "4OzIwdkpQ6lo",
        "colab_type": "code",
        "outputId": "be3f8416-52a6-46ea-fcbd-d39f3948d327",
        "colab": {
          "base_uri": "https://localhost:8080/",
          "height": 34
        }
      },
      "source": [
        "np.median(a7)"
      ],
      "execution_count": 0,
      "outputs": [
        {
          "output_type": "execute_result",
          "data": {
            "text/plain": [
              "49.5"
            ]
          },
          "metadata": {
            "tags": []
          },
          "execution_count": 12
        }
      ]
    },
    {
      "cell_type": "code",
      "metadata": {
        "id": "Cq9UofZGQ9cx",
        "colab_type": "code",
        "outputId": "31d8e633-1920-44c1-9592-290a37b781cf",
        "colab": {
          "base_uri": "https://localhost:8080/",
          "height": 34
        }
      },
      "source": [
        "np.std(a7)"
      ],
      "execution_count": 0,
      "outputs": [
        {
          "output_type": "execute_result",
          "data": {
            "text/plain": [
              "28.86607004772212"
            ]
          },
          "metadata": {
            "tags": []
          },
          "execution_count": 13
        }
      ]
    },
    {
      "cell_type": "markdown",
      "metadata": {
        "id": "BR4iCVcdOaO5",
        "colab_type": "text"
      },
      "source": [
        "##8th problem"
      ]
    },
    {
      "cell_type": "code",
      "metadata": {
        "id": "v9UwxYzfOdFC",
        "colab_type": "code",
        "colab": {}
      },
      "source": [
        "from numpy import linalg as LA"
      ],
      "execution_count": 0,
      "outputs": []
    },
    {
      "cell_type": "code",
      "metadata": {
        "id": "-_flfqNoO7WB",
        "colab_type": "code",
        "outputId": "4588be5c-28fe-49a0-fd0f-907e2cc9ef86",
        "colab": {
          "base_uri": "https://localhost:8080/",
          "height": 51
        }
      },
      "source": [
        "a8 = np.random.rand(1,10)\n",
        "a8"
      ],
      "execution_count": 0,
      "outputs": [
        {
          "output_type": "execute_result",
          "data": {
            "text/plain": [
              "array([[0.42732989, 0.06464925, 0.12754972, 0.39885959, 0.88335392,\n",
              "        0.95950008, 0.0094969 , 0.38179348, 0.38791854, 0.56118849]])"
            ]
          },
          "metadata": {
            "tags": []
          },
          "execution_count": 88
        }
      ]
    },
    {
      "cell_type": "code",
      "metadata": {
        "id": "URtQ-PKQPBrA",
        "colab_type": "code",
        "outputId": "e57d1012-947a-49e0-fb1c-c0e85db8bb16",
        "colab": {
          "base_uri": "https://localhost:8080/",
          "height": 34
        }
      },
      "source": [
        "LA.norm(a8)"
      ],
      "execution_count": 0,
      "outputs": [
        {
          "output_type": "execute_result",
          "data": {
            "text/plain": [
              "1.6353509032342526"
            ]
          },
          "metadata": {
            "tags": []
          },
          "execution_count": 89
        }
      ]
    },
    {
      "cell_type": "markdown",
      "metadata": {
        "id": "hKAkmiLZ01KS",
        "colab_type": "text"
      },
      "source": [
        ""
      ]
    },
    {
      "cell_type": "markdown",
      "metadata": {
        "id": "uurHftbTRBzB",
        "colab_type": "text"
      },
      "source": [
        "## 9th problem"
      ]
    },
    {
      "cell_type": "code",
      "metadata": {
        "id": "6Ww_B15WuAkd",
        "colab_type": "code",
        "outputId": "4cbf9778-3d51-4d8a-f342-39d8fed27147",
        "colab": {
          "base_uri": "https://localhost:8080/",
          "height": 85
        }
      },
      "source": [
        "A = np.random.rand(4,3)\n",
        "A"
      ],
      "execution_count": 0,
      "outputs": [
        {
          "output_type": "execute_result",
          "data": {
            "text/plain": [
              "array([[2.42034619e-01, 1.98426622e-01, 4.01699769e-01],\n",
              "       [8.47947275e-01, 1.64709990e-02, 4.67148477e-02],\n",
              "       [5.75978954e-01, 1.02978463e-01, 4.89785339e-04],\n",
              "       [5.03756486e-01, 9.26949422e-01, 9.58244150e-01]])"
            ]
          },
          "metadata": {
            "tags": []
          },
          "execution_count": 94
        }
      ]
    },
    {
      "cell_type": "code",
      "metadata": {
        "id": "aLZNOojSzrCH",
        "colab_type": "code",
        "outputId": "7496ef2a-feaf-47b6-f332-468324b66b17",
        "colab": {
          "base_uri": "https://localhost:8080/",
          "height": 34
        }
      },
      "source": [
        "print(A.shape)"
      ],
      "execution_count": 0,
      "outputs": [
        {
          "output_type": "stream",
          "text": [
            "(4, 3)\n"
          ],
          "name": "stdout"
        }
      ]
    },
    {
      "cell_type": "code",
      "metadata": {
        "id": "u-3rxTOCwXSM",
        "colab_type": "code",
        "outputId": "239cb199-1f8d-4b67-b63a-78ca73986f8c",
        "colab": {
          "base_uri": "https://localhost:8080/",
          "height": 340
        }
      },
      "source": [
        "B = np.random.rand(4,4,3)\n",
        "B"
      ],
      "execution_count": 0,
      "outputs": [
        {
          "output_type": "execute_result",
          "data": {
            "text/plain": [
              "array([[[0.95448607, 0.29125181, 0.69096977],\n",
              "        [0.36451862, 0.50347256, 0.22093045],\n",
              "        [0.62447092, 0.03390129, 0.07986685],\n",
              "        [0.7190801 , 0.33646185, 0.52010097]],\n",
              "\n",
              "       [[0.84779136, 0.10432109, 0.23228598],\n",
              "        [0.71144913, 0.56240432, 0.41970951],\n",
              "        [0.81252123, 0.92222859, 0.42589152],\n",
              "        [0.36746054, 0.02882602, 0.61834777]],\n",
              "\n",
              "       [[0.63724343, 0.323568  , 0.09064297],\n",
              "        [0.77819137, 0.43327259, 0.0686763 ],\n",
              "        [0.33678152, 0.68358991, 0.41904225],\n",
              "        [0.15744703, 0.40617723, 0.46017893]],\n",
              "\n",
              "       [[0.21315649, 0.77542102, 0.73002723],\n",
              "        [0.9964142 , 0.53502158, 0.86516247],\n",
              "        [0.57495663, 0.73635637, 0.41746535],\n",
              "        [0.32767772, 0.62427611, 0.85491099]]])"
            ]
          },
          "metadata": {
            "tags": []
          },
          "execution_count": 92
        }
      ]
    },
    {
      "cell_type": "code",
      "metadata": {
        "id": "NLbHhhvEwc_Z",
        "colab_type": "code",
        "outputId": "256c759b-b5e5-4d47-9192-35c29b2e5a64",
        "colab": {
          "base_uri": "https://localhost:8080/",
          "height": 34
        }
      },
      "source": [
        "print(B.shape)"
      ],
      "execution_count": 0,
      "outputs": [
        {
          "output_type": "stream",
          "text": [
            "(4, 4, 3)\n"
          ],
          "name": "stdout"
        }
      ]
    },
    {
      "cell_type": "code",
      "metadata": {
        "id": "ePsQSw-I2vqD",
        "colab_type": "code",
        "outputId": "7f019f5c-a913-446e-a111-64a39c4f5a18",
        "colab": {
          "base_uri": "https://localhost:8080/",
          "height": 34
        }
      },
      "source": [
        "print(B.shape[0])"
      ],
      "execution_count": 0,
      "outputs": [
        {
          "output_type": "stream",
          "text": [
            "4\n"
          ],
          "name": "stdout"
        }
      ]
    },
    {
      "cell_type": "code",
      "metadata": {
        "id": "oOS_JI5Izw03",
        "colab_type": "code",
        "colab": {}
      },
      "source": [
        "def matrix_mult (x, y):\n",
        "  c=[0,0,0,0]\n",
        "  for k in range(x.shape[0]):\n",
        "    s=0\n",
        "    for i in range(x.shape[1]):\n",
        "      for j in range(x.shape[2]):\n",
        "        c[k] = s = s+x[k][i][j]*y[i][j]\n",
        "  return c\n"
      ],
      "execution_count": 0,
      "outputs": []
    },
    {
      "cell_type": "code",
      "metadata": {
        "id": "W9TzwMtR36vJ",
        "colab_type": "code",
        "outputId": "41808469-721a-415e-b9b4-0974c83086cd",
        "colab": {
          "base_uri": "https://localhost:8080/",
          "height": 85
        }
      },
      "source": [
        "matrix_mult (B, A)"
      ],
      "execution_count": 0,
      "outputs": [
        {
          "output_type": "execute_result",
          "data": {
            "text/plain": [
              "[2.4297996036452956,\n",
              " 2.3188779710870193,\n",
              " 2.0864244508116956,\n",
              " 3.3629940064661863]"
            ]
          },
          "metadata": {
            "tags": []
          },
          "execution_count": 115
        }
      ]
    }
  ]
}